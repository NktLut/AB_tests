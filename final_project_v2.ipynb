{
 "cells": [
  {
   "cell_type": "code",
   "execution_count": 1,
   "metadata": {},
   "outputs": [],
   "source": [
    "import pandas as pd\n",
    "import numpy as np\n",
    "import seaborn as sns\n",
    "import matplotlib.pyplot as plt\n",
    "from bootstrap import bootstrap\n",
    "from scipy.stats import chi2_contingency\n",
    "\n",
    "# SQL tasks\n",
    "import pandahouse as ph\n",
    "\n",
    "# Data import module\n",
    "from get_data import get_data_ya_disk"
   ]
  },
  {
   "cell_type": "markdown",
   "metadata": {},
   "source": [
    "# Настройки по умолчанию"
   ]
  },
  {
   "cell_type": "code",
   "execution_count": 2,
   "metadata": {},
   "outputs": [],
   "source": [
    "default_viz = {'figure.titlesize': 20, 'legend.fontsize': 16, 'legend.title_fontsize': 16,\n",
    "               'axes.titlesize': 20, 'axes.labelsize': 12, 'axes.titlepad': 18,                \n",
    "              }\n",
    "\n",
    "# Установим тему для графиков по-умолчанию\n",
    "sns.set_theme(style=\"whitegrid\", palette=\"rocket\", rc=default_viz)"
   ]
  },
  {
   "cell_type": "markdown",
   "metadata": {},
   "source": [
    "# Задание 1. A/B–тестирование"
   ]
  },
  {
   "cell_type": "markdown",
   "metadata": {},
   "source": [
    "### В качестве входных данных имеется 4 csv-файла:  \n",
    "**groups.csv** - файл с информацией о принадлежности пользователя к контрольной или экспериментальной группе (А – контроль, B – целевая группа)  \n",
    "**groups_add.csv** - дополнительный файл с пользователями, который вам прислали спустя 2 дня после передачи данных  \n",
    "**active_studs.csv** - файл с информацией о пользователях, которые зашли на платформу в дни проведения эксперимента.  \n",
    "**checks.csv** - файл с информацией об оплатах пользователей в дни проведения эксперимента. "
   ]
  },
  {
   "cell_type": "markdown",
   "metadata": {},
   "source": [
    "### Импорт данных"
   ]
  },
  {
   "cell_type": "code",
   "execution_count": 3,
   "metadata": {},
   "outputs": [
    {
     "name": "stdout",
     "output_type": "stream",
     "text": [
      "Help on function get_data_ya_disk in module get_data:\n",
      "\n",
      "get_data_ya_disk(data_keys)\n",
      "    Params:\n",
      "        - list of public urls to ya disk files        \n",
      "    Return:\n",
      "        - list of download urls\n",
      "\n"
     ]
    }
   ],
   "source": [
    "help(get_data_ya_disk)"
   ]
  },
  {
   "cell_type": "code",
   "execution_count": 4,
   "metadata": {},
   "outputs": [],
   "source": [
    "# Ссылки на файлы данных\n",
    "data_keys = ['https://disk.yandex.ru/d/58Us0DWOzuWAjg', \n",
    "             'https://disk.yandex.ru/d/3aARY-P9pfaksg',\n",
    "             'https://disk.yandex.ru/d/prbgU-rZpiXVYg',\n",
    "             'https://disk.yandex.ru/d/84hTmELphW2sqQ'] \n",
    "\n",
    "# Получим список url для загрузки\n",
    "download_urls = get_data_ya_disk(data_keys)"
   ]
  },
  {
   "cell_type": "code",
   "execution_count": 5,
   "metadata": {},
   "outputs": [],
   "source": [
    "# Загрузим данные в датафреймы\n",
    "groups       = pd.read_csv(download_urls[0], sep=';')\n",
    "groups_add   = pd.read_csv(download_urls[1])\n",
    "active_studs = pd.read_csv(download_urls[2])\n",
    "checks       = pd.read_csv(download_urls[3], sep=';')"
   ]
  },
  {
   "cell_type": "markdown",
   "metadata": {},
   "source": [
    "***Ремарка***  \n",
    "В данных использованы разные разделители, стоит обратить внимание инженеров"
   ]
  },
  {
   "cell_type": "markdown",
   "metadata": {},
   "source": [
    "### Предобработка данных"
   ]
  },
  {
   "cell_type": "markdown",
   "metadata": {},
   "source": [
    "По описанию не очень ясно, что значит \"2 дня после передачи данных\".  \n",
    "Условимся, что файл с доп пользователями прислали до эксперимента.  \n",
    "Соответственно добавим их к общему списку."
   ]
  },
  {
   "cell_type": "code",
   "execution_count": 6,
   "metadata": {},
   "outputs": [],
   "source": [
    "groups = pd.concat([groups, groups_add], ignore_index=True)"
   ]
  },
  {
   "cell_type": "code",
   "execution_count": 7,
   "metadata": {},
   "outputs": [
    {
     "name": "stdout",
     "output_type": "stream",
     "text": [
      "<class 'pandas.core.frame.DataFrame'>\n",
      "RangeIndex: 74576 entries, 0 to 74575\n",
      "Data columns (total 2 columns):\n",
      " #   Column  Non-Null Count  Dtype \n",
      "---  ------  --------------  ----- \n",
      " 0   id      74576 non-null  int64 \n",
      " 1   grp     74576 non-null  object\n",
      "dtypes: int64(1), object(1)\n",
      "memory usage: 1.1+ MB\n"
     ]
    }
   ],
   "source": [
    "groups.info()"
   ]
  },
  {
   "cell_type": "code",
   "execution_count": 8,
   "metadata": {},
   "outputs": [
    {
     "name": "stdout",
     "output_type": "stream",
     "text": [
      "<class 'pandas.core.frame.DataFrame'>\n",
      "RangeIndex: 541 entries, 0 to 540\n",
      "Data columns (total 2 columns):\n",
      " #   Column      Non-Null Count  Dtype  \n",
      "---  ------      --------------  -----  \n",
      " 0   student_id  541 non-null    int64  \n",
      " 1   rev         541 non-null    float64\n",
      "dtypes: float64(1), int64(1)\n",
      "memory usage: 8.6 KB\n"
     ]
    }
   ],
   "source": [
    "checks.info()"
   ]
  },
  {
   "cell_type": "code",
   "execution_count": 9,
   "metadata": {},
   "outputs": [
    {
     "name": "stdout",
     "output_type": "stream",
     "text": [
      "<class 'pandas.core.frame.DataFrame'>\n",
      "RangeIndex: 8341 entries, 0 to 8340\n",
      "Data columns (total 1 columns):\n",
      " #   Column      Non-Null Count  Dtype\n",
      "---  ------      --------------  -----\n",
      " 0   student_id  8341 non-null   int64\n",
      "dtypes: int64(1)\n",
      "memory usage: 65.3 KB\n"
     ]
    }
   ],
   "source": [
    "active_studs.info()"
   ]
  },
  {
   "cell_type": "markdown",
   "metadata": {},
   "source": [
    "В данных нет пропущенных значений.  \n",
    "Сами данные достаточно \"консервативные\", имеем только распределение пользователей по группам, трафик и чеки в процессе экспремента.  \n",
    "Никаких временных данных о длительности эксперимента, локации пользователя или другой общей информации"
   ]
  },
  {
   "cell_type": "markdown",
   "metadata": {},
   "source": [
    "Посмотрим на распределение пользователей по группам"
   ]
  },
  {
   "cell_type": "code",
   "execution_count": 10,
   "metadata": {},
   "outputs": [
    {
     "data": {
      "image/png": "[encoded data removed]",
      "text/plain": [
       "<Figure size 432x288 with 1 Axes>"
      ]
     },
     "metadata": {},
     "output_type": "display_data"
    }
   ],
   "source": [
    "ab_distribution = groups.groupby('grp', as_index=False).agg(total=('id', 'count'))\n",
    "\n",
    "sns.barplot(data=ab_distribution, x='grp', y='total')\n",
    "\n",
    "plt.xlabel('Group')\n",
    "plt.ylabel('Users')\n",
    "plt.title('Distribution of users by Control(A) and Test(B) groups')\n",
    "\n",
    "sns.despine()\n",
    "plt.show()"
   ]
  },
  {
   "cell_type": "code",
   "execution_count": 11,
   "metadata": {},
   "outputs": [
    {
     "data": {
      "text/html": [
       "<div>\n",
       "<style scoped>\n",
       "    .dataframe tbody tr th:only-of-type {\n",
       "        vertical-align: middle;\n",
       "    }\n",
       "\n",
       "    .dataframe tbody tr th {\n",
       "        vertical-align: top;\n",
       "    }\n",
       "\n",
       "    .dataframe thead th {\n",
       "        text-align: right;\n",
       "    }\n",
       "</style>\n",
       "<table border=\"1\" class=\"dataframe\">\n",
       "  <thead>\n",
       "    <tr style=\"text-align: right;\">\n",
       "      <th></th>\n",
       "      <th>grp</th>\n",
       "      <th>total</th>\n",
       "    </tr>\n",
       "  </thead>\n",
       "  <tbody>\n",
       "    <tr>\n",
       "      <th>0</th>\n",
       "      <td>A</td>\n",
       "      <td>14693</td>\n",
       "    </tr>\n",
       "    <tr>\n",
       "      <th>1</th>\n",
       "      <td>B</td>\n",
       "      <td>59883</td>\n",
       "    </tr>\n",
       "  </tbody>\n",
       "</table>\n",
       "</div>"
      ],
      "text/plain": [
       "  grp  total\n",
       "0   A  14693\n",
       "1   B  59883"
      ]
     },
     "execution_count": 11,
     "metadata": {},
     "output_type": "execute_result"
    }
   ],
   "source": [
    "ab_distribution"
   ]
  },
  {
   "cell_type": "markdown",
   "metadata": {},
   "source": [
    "Посмотрим на данные о покупках"
   ]
  },
  {
   "cell_type": "code",
   "execution_count": 12,
   "metadata": {},
   "outputs": [
    {
     "data": {
      "image/png": "[encoded data removed]",
      "text/plain": [
       "<Figure size 360x360 with 1 Axes>"
      ]
     },
     "metadata": {},
     "output_type": "display_data"
    }
   ],
   "source": [
    "# Посчитаем средний чек\n",
    "avg_check = np.round(checks.rev.mean(), 2)\n",
    "\n",
    "# Визуализируем для быстрой оценки\n",
    "sns.displot(checks.rev)\n",
    "\n",
    "plt.xlabel('Check')\n",
    "plt.title('Distribution of check values')\n",
    "plt.axvline(x=avg_check, \n",
    "            ymin=0, \n",
    "            ymax=0.95, \n",
    "            color='red',\n",
    "            linestyle='--',\n",
    "            label='Avg check\\n' + str(avg_check)\n",
    "           )\n",
    "\n",
    "sns.despine()\n",
    "plt.legend()\n",
    "plt.show()"
   ]
  },
  {
   "cell_type": "markdown",
   "metadata": {},
   "source": [
    "Ожидаемо видим, что большее количество пользователей имеет чек ниже среднего.  \n",
    "Однако, есть значительный \"выброс\" в районе 2000.  \n",
    "Посмотрим внимательнее."
   ]
  },
  {
   "cell_type": "code",
   "execution_count": 13,
   "metadata": {},
   "outputs": [
    {
     "data": {
      "text/plain": [
       "1900.0000    97\n",
       "290.0000     94\n",
       "690.0000     78\n",
       "199.0000     46\n",
       "990.0000     41\n",
       "1900.0001    36\n",
       "840.0000     27\n",
       "1140.0000    25\n",
       "580.0000     15\n",
       "590.0000     11\n",
       "Name: rev, dtype: int64"
      ]
     },
     "execution_count": 13,
     "metadata": {},
     "output_type": "execute_result"
    }
   ],
   "source": [
    "checks.rev.value_counts().head(10)"
   ]
  },
  {
   "cell_type": "markdown",
   "metadata": {},
   "source": [
    "При более детальном рассмотрении, видим, что:\n",
    "1. Количество пользователей с чеком 1900 - преобладает\n",
    "2. Более того, есть значительная группа пользователей с чеком 1900.0001  \n",
    "\n",
    "***Вывод 1***  \n",
    "В датафрейме checks в колонке rev, имеем чек каждого пользователя, соответственно разговор о деньгах.\n",
    "В фин. учете действительно часто используется система записи с 4-мя десятичными знаками, однако это не имеет смысла для учета чеков пользователей.  \n",
    "Скорее всего, это ошибка при сборе данных.  \n",
    "Округлим до 2-х знаков после запятой, тогда группа пользователей с чеком 1900.0000 сольется с группой 1900.0001 \n",
    "\n",
    "***Вывод 2***  \n",
    "Такой выброс в среднем чеке не характерен, возможные причины:\n",
    "1. У нас есть супер популярный товар, который все покупают, с ценой 1900.\n",
    "2. Ошибка при сборе данных.  \n",
    "\n",
    "Поскольку в задаче нет никаких вводных о структуре сайта или товарах, однозначные выводы сделать сложно"
   ]
  },
  {
   "cell_type": "code",
   "execution_count": 14,
   "metadata": {},
   "outputs": [],
   "source": [
    "# Округлим чеки\n",
    "checks.rev = np.round(checks.rev, 2)"
   ]
  },
  {
   "cell_type": "markdown",
   "metadata": {},
   "source": [
    "Посмотрим к какой группе относятся пользователи с чеком 1900  \n",
    "Для этого к датафрейму checks добавим данные о принадлежности к А/В из groups"
   ]
  },
  {
   "cell_type": "code",
   "execution_count": 15,
   "metadata": {},
   "outputs": [],
   "source": [
    "ab_checks = checks.merge(groups, left_on='student_id', right_on='id', how='left')\n",
    "ab_checks.drop(columns='student_id', inplace=True)"
   ]
  },
  {
   "cell_type": "code",
   "execution_count": 16,
   "metadata": {},
   "outputs": [
    {
     "name": "stdout",
     "output_type": "stream",
     "text": [
      "Все ок\n"
     ]
    }
   ],
   "source": [
    "# Проверим что данные не потеряны, и каждому клиенту присвоена группа\n",
    "if checks.student_id.equals(ab_checks.id):\n",
    "    if ab_checks.grp.isna().sum() == 0:    \n",
    "        print('Все ок')\n",
    "    else:\n",
    "        nan_idxs = list(ab_checks.loc[ab_checks.grp.isna()].id)\n",
    "        print(f'Группы не присвоены пользователям с id: {nan_idxs}')        \n",
    "else:\n",
    "    print('Мы потеряли пользователей')"
   ]
  },
  {
   "cell_type": "code",
   "execution_count": 17,
   "metadata": {},
   "outputs": [
    {
     "data": {
      "text/plain": [
       "B    133\n",
       "Name: grp, dtype: int64"
      ]
     },
     "execution_count": 17,
     "metadata": {},
     "output_type": "execute_result"
    }
   ],
   "source": [
    "# Посмотрим к какой группе принадлежат пользователи с \"нестандартным чеком\"\n",
    "ab_checks.query('rev == 1900').grp.value_counts()"
   ]
  },
  {
   "cell_type": "markdown",
   "metadata": {},
   "source": [
    "Все пользователи оказались из тестовой(В) группы.  \n",
    "Из этого можно сделать несколько предположений:\n",
    "1. Это случайность, так как распределение групп сильно неравномерное (к группе В относится 80% пользователей).  \n",
    "2. Наше изменение механики оплаты каким-то образом повлияло конкретно на товары с ценой 1900  \n",
    "3. Помимо изменения механики оплаты, изменилось что-то еще. Несогласованная промо-акция другого отдела, параллельный тест с другой гипотезой но на тех же пользователях, сезонный спрос на данный товар и т.д.  \n",
    "\n",
    "Как и в выводах ранее, одназначную причину назвать невозможно, так как вводных данных недостаточно."
   ]
  },
  {
   "cell_type": "markdown",
   "metadata": {},
   "source": [
    "***Вывод 3***  \n",
    "Поскольку у нас нет подтверждения или опровержения факта некоректного проведения экмперимента, для анализа результатов теста, будем работать с данными \"как есть\"."
   ]
  },
  {
   "cell_type": "markdown",
   "metadata": {},
   "source": [
    "### Метрики  \n",
    "1. Конверсия в продажу, как отношение пользователей совершивших покупку, к общему числу пользоваетелей. Ожидаем рост.\n",
    "2. Средний чек. Ожидаем рост.  \n",
    "\n",
    "***Ремарка***  \n",
    "Доступны только данных о количестве трафика и чеке пользователей, никаких других показателей нет.  \n",
    "Вообще говоря, метрика успеха должна быть выбрана **до** проведения эксперимента, иначе будет происходить игра в угадайку.  \n",
    "В данном случае, исходя из гипотезы и данных, можно предположить, что были выбраны метрики описанные выше.  \n",
    "\n",
    "Таким образом попробуем интерпретировать результаты А/В теста с точки зрения, описанных выше, метрик."
   ]
  },
  {
   "cell_type": "markdown",
   "metadata": {},
   "source": [
    "Для расчета метрик объединим данные о покупках и посещениях.  "
   ]
  },
  {
   "cell_type": "code",
   "execution_count": 18,
   "metadata": {},
   "outputs": [],
   "source": [
    "checks_activity = active_studs.merge(checks, on='student_id', how='left')"
   ]
  },
  {
   "cell_type": "code",
   "execution_count": 19,
   "metadata": {},
   "outputs": [
    {
     "name": "stdout",
     "output_type": "stream",
     "text": [
      "<class 'pandas.core.frame.DataFrame'>\n",
      "Int64Index: 8341 entries, 0 to 8340\n",
      "Data columns (total 2 columns):\n",
      " #   Column      Non-Null Count  Dtype  \n",
      "---  ------      --------------  -----  \n",
      " 0   student_id  8341 non-null   int64  \n",
      " 1   rev         392 non-null    float64\n",
      "dtypes: float64(1), int64(1)\n",
      "memory usage: 195.5 KB\n"
     ]
    }
   ],
   "source": [
    "checks_activity.info()"
   ]
  },
  {
   "cell_type": "code",
   "execution_count": 20,
   "metadata": {},
   "outputs": [
    {
     "name": "stdout",
     "output_type": "stream",
     "text": [
      "<class 'pandas.core.frame.DataFrame'>\n",
      "RangeIndex: 541 entries, 0 to 540\n",
      "Data columns (total 2 columns):\n",
      " #   Column      Non-Null Count  Dtype  \n",
      "---  ------      --------------  -----  \n",
      " 0   student_id  541 non-null    int64  \n",
      " 1   rev         541 non-null    float64\n",
      "dtypes: float64(1), int64(1)\n",
      "memory usage: 8.6 KB\n"
     ]
    }
   ],
   "source": [
    "checks.info()"
   ]
  },
  {
   "cell_type": "markdown",
   "metadata": {},
   "source": [
    "Видим, что при объединении мы потеряли значительную часть пользователей из данных о покупках.  \n",
    "Большой вопрос, как пользователи смогли осуществить покупку не заходя на сайт.  \n",
    "Это еще раз указывает на то что при сборе данных могла быть допущена ошибка.  \n",
    "А так же говорит о том, что все ивенты должны сопровождаться временными точками.  \n",
    "  \n",
    "  ***Вывод***  \n",
    "В данном случае, будем исходить из того что пользователь не мог осуществить покупку не зайдя на сайт."
   ]
  },
  {
   "cell_type": "markdown",
   "metadata": {},
   "source": [
    "Теперь дополним данные группами"
   ]
  },
  {
   "cell_type": "code",
   "execution_count": 21,
   "metadata": {},
   "outputs": [
    {
     "data": {
      "text/html": [
       "<div>\n",
       "<style scoped>\n",
       "    .dataframe tbody tr th:only-of-type {\n",
       "        vertical-align: middle;\n",
       "    }\n",
       "\n",
       "    .dataframe tbody tr th {\n",
       "        vertical-align: top;\n",
       "    }\n",
       "\n",
       "    .dataframe thead th {\n",
       "        text-align: right;\n",
       "    }\n",
       "</style>\n",
       "<table border=\"1\" class=\"dataframe\">\n",
       "  <thead>\n",
       "    <tr style=\"text-align: right;\">\n",
       "      <th></th>\n",
       "      <th>rev</th>\n",
       "      <th>id</th>\n",
       "      <th>grp</th>\n",
       "    </tr>\n",
       "  </thead>\n",
       "  <tbody>\n",
       "    <tr>\n",
       "      <th>0</th>\n",
       "      <td>NaN</td>\n",
       "      <td>581585</td>\n",
       "      <td>A</td>\n",
       "    </tr>\n",
       "    <tr>\n",
       "      <th>1</th>\n",
       "      <td>NaN</td>\n",
       "      <td>5723133</td>\n",
       "      <td>A</td>\n",
       "    </tr>\n",
       "    <tr>\n",
       "      <th>2</th>\n",
       "      <td>NaN</td>\n",
       "      <td>3276743</td>\n",
       "      <td>B</td>\n",
       "    </tr>\n",
       "    <tr>\n",
       "      <th>3</th>\n",
       "      <td>NaN</td>\n",
       "      <td>4238589</td>\n",
       "      <td>A</td>\n",
       "    </tr>\n",
       "    <tr>\n",
       "      <th>4</th>\n",
       "      <td>NaN</td>\n",
       "      <td>4475369</td>\n",
       "      <td>B</td>\n",
       "    </tr>\n",
       "  </tbody>\n",
       "</table>\n",
       "</div>"
      ],
      "text/plain": [
       "   rev       id grp\n",
       "0  NaN   581585   A\n",
       "1  NaN  5723133   A\n",
       "2  NaN  3276743   B\n",
       "3  NaN  4238589   A\n",
       "4  NaN  4475369   B"
      ]
     },
     "execution_count": 21,
     "metadata": {},
     "output_type": "execute_result"
    }
   ],
   "source": [
    "test_results = checks_activity.merge(groups, how='left', left_on='student_id', right_on='id').drop(columns=['student_id'])\n",
    "test_results.head(5)"
   ]
  },
  {
   "cell_type": "code",
   "execution_count": 22,
   "metadata": {},
   "outputs": [
    {
     "name": "stdout",
     "output_type": "stream",
     "text": [
      "<class 'pandas.core.frame.DataFrame'>\n",
      "Int64Index: 8341 entries, 0 to 8340\n",
      "Data columns (total 3 columns):\n",
      " #   Column  Non-Null Count  Dtype  \n",
      "---  ------  --------------  -----  \n",
      " 0   rev     392 non-null    float64\n",
      " 1   id      8341 non-null   int64  \n",
      " 2   grp     8341 non-null   object \n",
      "dtypes: float64(1), int64(1), object(1)\n",
      "memory usage: 260.7+ KB\n"
     ]
    }
   ],
   "source": [
    "test_results.info()"
   ]
  },
  {
   "cell_type": "code",
   "execution_count": 23,
   "metadata": {},
   "outputs": [
    {
     "data": {
      "text/html": [
       "<div>\n",
       "<style scoped>\n",
       "    .dataframe tbody tr th:only-of-type {\n",
       "        vertical-align: middle;\n",
       "    }\n",
       "\n",
       "    .dataframe tbody tr th {\n",
       "        vertical-align: top;\n",
       "    }\n",
       "\n",
       "    .dataframe thead th {\n",
       "        text-align: right;\n",
       "    }\n",
       "</style>\n",
       "<table border=\"1\" class=\"dataframe\">\n",
       "  <thead>\n",
       "    <tr style=\"text-align: right;\">\n",
       "      <th></th>\n",
       "      <th>grp</th>\n",
       "      <th>active_users</th>\n",
       "      <th>total_checks</th>\n",
       "      <th>avg_check</th>\n",
       "      <th>cr</th>\n",
       "    </tr>\n",
       "  </thead>\n",
       "  <tbody>\n",
       "    <tr>\n",
       "      <th>0</th>\n",
       "      <td>A</td>\n",
       "      <td>1538</td>\n",
       "      <td>78</td>\n",
       "      <td>933.589744</td>\n",
       "      <td>0.0507</td>\n",
       "    </tr>\n",
       "    <tr>\n",
       "      <th>1</th>\n",
       "      <td>B</td>\n",
       "      <td>6803</td>\n",
       "      <td>314</td>\n",
       "      <td>1257.878981</td>\n",
       "      <td>0.0462</td>\n",
       "    </tr>\n",
       "  </tbody>\n",
       "</table>\n",
       "</div>"
      ],
      "text/plain": [
       "  grp  active_users  total_checks    avg_check      cr\n",
       "0   A          1538            78   933.589744  0.0507\n",
       "1   B          6803           314  1257.878981  0.0462"
      ]
     },
     "execution_count": 23,
     "metadata": {},
     "output_type": "execute_result"
    }
   ],
   "source": [
    "metrics_by_group = (test_results\n",
    "                    .groupby('grp', as_index=False)\n",
    "                    .agg(active_users=('id','nunique'), total_checks=('rev', 'count'), avg_check=('rev', 'mean'))\n",
    "                   )\n",
    "\n",
    "# Конверсия в продажу\n",
    "metrics_by_group['cr'] = np.round(metrics_by_group.total_checks / metrics_by_group.active_users, 4)\n",
    "\n",
    "metrics_by_group"
   ]
  },
  {
   "cell_type": "markdown",
   "metadata": {},
   "source": [
    "***Вывод***  \n",
    "Предварительно можно сказать, что средний чек изменился значительно. Скорее всего различия будут стат значимы.  \n",
    "С конверсией уже не так однозначно.  \n",
    "Проверим с помощью статистических критериев."
   ]
  },
  {
   "cell_type": "markdown",
   "metadata": {},
   "source": [
    "### Гипотеза 1  \n",
    "**Если** мы введем новую механику оплаты услуг на сайте,  \n",
    "**То** мы увеличим средний чек  \n",
    "\n",
    "**В статистическом представлении:**  \n",
    "H0 - никаких различий в среднем чеке для тестовой и контрольной группы нет.  \n",
    "H1 - из-за новой механики оплаты, средний чек изменился статистически значимо"
   ]
  },
  {
   "cell_type": "markdown",
   "metadata": {},
   "source": [
    "##### Выбор статистического критерия, для анализа результатов А/В тестирования.  \n",
    "\n",
    "По типу переменной, величина чека - непрерывная. Мы ищем различия между группами и сравниваем средние значения.  \n",
    "Соответственно, главные кандидаты на стат. критерий - Т-тест и U-тест.  \n",
    "Мы уже видели общее распределение исследуемого признака раньше, посмотрим в разбивке по группам."
   ]
  },
  {
   "cell_type": "markdown",
   "metadata": {},
   "source": [
    "Для анализа среднего чека, оставим только тех пользователей, которые совершили покупки"
   ]
  },
  {
   "cell_type": "code",
   "execution_count": 24,
   "metadata": {},
   "outputs": [],
   "source": [
    "test_results_avg = test_results.dropna()"
   ]
  },
  {
   "cell_type": "code",
   "execution_count": 25,
   "metadata": {},
   "outputs": [
    {
     "data": {
      "image/png": "[encoded data removed]",
      "text/plain": [
       "<Figure size 720x360 with 2 Axes>"
      ]
     },
     "metadata": {},
     "output_type": "display_data"
    }
   ],
   "source": [
    "fig, (ax1, ax2) = plt.subplots(nrows=1, ncols=2, figsize=(10,5))\n",
    "\n",
    "sns.boxplot(data=test_results_avg, x='rev', y='grp', ax=ax1)\n",
    "sns.histplot(data=test_results_avg, x='rev', hue='grp', ax=ax2)\n",
    "\n",
    "ax1.set_xlabel('Revenue')\n",
    "ax1.set_ylabel('Group')\n",
    "\n",
    "ax2.set_xlabel('Revenue')\n",
    "ax2.set_ylabel('Users')\n",
    "\n",
    "plt.suptitle('Revenue distribution')\n",
    "\n",
    "sns.despine()\n",
    "plt.show()"
   ]
  },
  {
   "cell_type": "markdown",
   "metadata": {},
   "source": [
    "Видим, что распределения несимметричны, имеют выбросы, и не унимодальны.  \n",
    "Таким образом, Т-критерий не применим.  "
   ]
  },
  {
   "cell_type": "markdown",
   "metadata": {},
   "source": [
    "Для применения критерия Манна-Уитни, распределение должно:\n",
    "- иметь не менее 3х значений признака\n",
    "- иметь мало совпадающих значений(менее 10)  \n",
    "Однако, уже на этапе предобработки, мы увидели что у нас очень много(более 100) чеков с суммой ровно 1900.  \n",
    "Проверим еще раз на всякий случай."
   ]
  },
  {
   "cell_type": "code",
   "execution_count": 26,
   "metadata": {},
   "outputs": [
    {
     "data": {
      "text/plain": [
       "1900.0    128\n",
       "290.0      70\n",
       "199.0      32\n",
       "840.0      24\n",
       "990.0      22\n",
       "Name: rev, dtype: int64"
      ]
     },
     "execution_count": 26,
     "metadata": {},
     "output_type": "execute_result"
    }
   ],
   "source": [
    "test_results_avg.rev.value_counts().head(5)"
   ]
  },
  {
   "cell_type": "markdown",
   "metadata": {},
   "source": [
    "Таким образом U-критерий также не применим в данном случае.  \n",
    "Если ни U-критерий, ни T-критерий нельзя применить, остается Бутстрап. "
   ]
  },
  {
   "cell_type": "markdown",
   "metadata": {},
   "source": [
    "Воспользуемся подготовленной функцией bootstrap из модуля bootstrap.  \n",
    "В качестве статистики применим сравнение медиан, так как мы имеем значимые выбросы."
   ]
  },
  {
   "cell_type": "code",
   "execution_count": 27,
   "metadata": {},
   "outputs": [
    {
     "name": "stdout",
     "output_type": "stream",
     "text": [
      "Help on function bootstrap in module bootstrap:\n",
      "\n",
      "bootstrap(data_1, data_2, boot_subsamples=1000, statistic=<function mean at 0x7f95ac1c96a8>, conf_level=0.95)\n",
      "    Params:\n",
      "        data_1, data_2 - samples\n",
      "        boot_subsamples - bootstrap subsamples quantity\n",
      "        statistic - stat, used to find differences\n",
      "        conf_level - confidens level (1 - alpha)\n",
      "    \n",
      "    Returns:\n",
      "        dict with keys:\n",
      "            \"boot_data\": stat diff for each subsample\n",
      "            \"quants\": quants \n",
      "            \"p_value\": p_value\n",
      "\n"
     ]
    }
   ],
   "source": [
    "help(bootstrap)"
   ]
  },
  {
   "cell_type": "code",
   "execution_count": 28,
   "metadata": {},
   "outputs": [
    {
     "name": "stdout",
     "output_type": "stream",
     "text": [
      "Method    | p-value | Reject H0(p < 0.05)\n",
      "Bootstrap | 0.00387 | True\n"
     ]
    }
   ],
   "source": [
    "# Запишем результаты контрольной и тестовой группы в соответствующие переменные\n",
    "test = test_results_avg.query('grp == \"B\"').rev\n",
    "control = test_results_avg.query('grp == \"A\"').rev\n",
    "\n",
    "# Проведем бутстрап\n",
    "avg_rev_stat_results = bootstrap(data_1=test,\n",
    "                                 data_2=control,\n",
    "                                 boot_subsamples=10000,\n",
    "                                 statistic=np.mean,\n",
    "                                 conf_level=0.95)\n",
    "\n",
    "# Запишем получившийся уровень значимости в переменную\n",
    "bootstrap_p_val = avg_rev_stat_results['p_value'].round(5)\n",
    "\n",
    "# Проверим, достаточно ли у нас оснований отвергнуть нулевую гипотезу\n",
    "print('Method    | p-value | Reject H0(p < 0.05)')\n",
    "print(f'Bootstrap | {bootstrap_p_val} | {bootstrap_p_val < 0.05}')"
   ]
  },
  {
   "cell_type": "markdown",
   "metadata": {},
   "source": [
    "Таким образом, у нас есть достаточно оснований, чтобы отвергнуть нулевую гипотезу.  \n",
    "Значит, при введении нового механизма оплаты, мы получим статистически значимое повышение среднего чека."
   ]
  },
  {
   "cell_type": "markdown",
   "metadata": {},
   "source": [
    "***Дополнение***  \n",
    "Вспомним что у нас есть веские основания полагать, что при сборе данных была допущена ошибка.  \n",
    "Ориентируясь на распределение чеков по пользователям, можно предположить, что людей с чеком 1900, должно быть около 5.  \n",
    "Попробуем проверить нашу гипотезу с такими вводными."
   ]
  },
  {
   "cell_type": "code",
   "execution_count": 29,
   "metadata": {},
   "outputs": [],
   "source": [
    "# Оставим 5 человек с чеком 1900\n",
    "test_results_avg_corrected = pd.concat([test_results_avg.query('rev != 1900'), test_results_avg.query('rev == 1900').head(5)])"
   ]
  },
  {
   "cell_type": "code",
   "execution_count": 30,
   "metadata": {},
   "outputs": [
    {
     "name": "stdout",
     "output_type": "stream",
     "text": [
      "Method    | p-value | Reject H0(p < 0.05)\n",
      "Bootstrap | 0.44556 | False\n"
     ]
    }
   ],
   "source": [
    "# Запишем результаты контрольной и тестовой группы в соответствующие переменные\n",
    "test = test_results_avg_corrected.query('grp == \"B\"').rev\n",
    "control = test_results_avg_corrected.query('grp == \"A\"').rev\n",
    "\n",
    "# Проведем бутстрап\n",
    "avg_rev_stat_results = bootstrap(data_1=test,\n",
    "                                 data_2=control,\n",
    "                                 boot_subsamples=10000,\n",
    "                                 statistic=np.mean,\n",
    "                                 conf_level=0.95)\n",
    "\n",
    "# Запишем получившийся уровень значимости в переменную\n",
    "bootstrap_p_val = avg_rev_stat_results['p_value'].round(5)\n",
    "\n",
    "# Проверим, достаточно ли у нас оснований отвергнуть нулевую гипотезу\n",
    "print('Method    | p-value | Reject H0(p < 0.05)')\n",
    "print(f'Bootstrap | {bootstrap_p_val} | {bootstrap_p_val < 0.05}')"
   ]
  },
  {
   "cell_type": "markdown",
   "metadata": {},
   "source": [
    "И подтвердим догадку, что если сбор данных проведен некорректно и в наши результаты попало много пользователей со средним чеком 1900, по причинам не связанным с нашей изначальной гипотезой.  \n",
    "То, если их отбросить, мы уже не имеем никаких оснований отклонить нулевую гипотезу. А значит механизм оплаты не повлиял на средний чек."
   ]
  },
  {
   "cell_type": "markdown",
   "metadata": {},
   "source": [
    "### Гипотеза 2 \n",
    "**Если** мы введем новую механику оплаты услуг на сайте,  \n",
    "**То** мы увеличим конверсию в продажу\n",
    "\n",
    "**В статистическом представлении:**  \n",
    "H0 - никаких различий в конверсии для тестовой и контрольной группы нет.  \n",
    "H1 - из-за новой механики оплаты, конверсия изменилась статистически значимо"
   ]
  },
  {
   "cell_type": "markdown",
   "metadata": {},
   "source": [
    "##### Выбор статистического критерия, дляанализа результатов А/В тестирования.  \n",
    "Для анализа конверсии используем χ²"
   ]
  },
  {
   "cell_type": "code",
   "execution_count": 31,
   "metadata": {},
   "outputs": [
    {
     "name": "stdout",
     "output_type": "stream",
     "text": [
      "Method | p-value | Reject H0(p < 0.05)\n",
      "χ²     | 0.46726 | False\n"
     ]
    }
   ],
   "source": [
    "# Оставим только необходимые данные\n",
    "test_results_cr = metrics_by_group.loc[:,['total_checks', 'active_users']]\n",
    "\n",
    "# Посчитаем критерий\n",
    "stat, p, dof, expected = chi2_contingency(test_results_cr, correction=False)\n",
    "p = np.round(p, 5)\n",
    "\n",
    "# Проверим, достаточно ли у нас оснований отвергнуть нулевую гипотезу\n",
    "print('Method | p-value | Reject H0(p < 0.05)')\n",
    "print(f'χ²     | {p} | {p < 0.05}')"
   ]
  },
  {
   "cell_type": "markdown",
   "metadata": {},
   "source": [
    "Если бы целевой метрикой была конверсия, у нас бы не было никаких оснований отвергать нулевую гипотезу."
   ]
  },
  {
   "cell_type": "markdown",
   "metadata": {},
   "source": [
    "# Выводы по заданию 1. А/В тест."
   ]
  },
  {
   "cell_type": "markdown",
   "metadata": {},
   "source": [
    "Подводя итоги, можно сказать, что:\n",
    "1. Есть явные признаки того, что при сборе данных была допущена ошибка  \n",
    "2. Если считать что это не ошибка, то новый механизм оплаты действительно повлиял на средний чек пользователей. \"Можно выкатывать\".  \n",
    "3. Если отбросить значения, кажущиеся ошибочными, новый механизм оплаты - не оказывает статистически значимого влияния на средний чек. \"Выкатывать нет смысла\".\n",
    "4. Новый механизм оплаты не оказывает статистически значимого влияния на конверсию в продажу."
   ]
  },
  {
   "cell_type": "markdown",
   "metadata": {},
   "source": [
    " "
   ]
  },
  {
   "cell_type": "markdown",
   "metadata": {},
   "source": [
    "# Задание 2. SQL"
   ]
  },
  {
   "cell_type": "markdown",
   "metadata": {},
   "source": [
    "Задание на SQL решим при помощи модуля pandahouse.  \n",
    "Для начала работы пропишем параетры соединения с базой"
   ]
  },
  {
   "cell_type": "code",
   "execution_count": 32,
   "metadata": {},
   "outputs": [],
   "source": [
    "connection = dict(database='default',\n",
    "                  host='https://clickhouse.lab.karpov.courses',\n",
    "                  user='student',\n",
    "                  password='dpo_python_2020')"
   ]
  },
  {
   "cell_type": "markdown",
   "metadata": {},
   "source": [
    "### 2.1 Очень усердные ученики.\n"
   ]
  },
  {
   "cell_type": "markdown",
   "metadata": {},
   "source": [
    "##### Условие  \n",
    "Образовательные курсы состоят из различных уроков, каждый из которых состоит из нескольких маленьких заданий.  \n",
    "Каждое такое маленькое задание называется \"горошиной\".\n",
    "\n",
    "Назовём очень усердным учеником того пользователя, который хотя бы раз за текущий месяц правильно решил 20 горошин."
   ]
  },
  {
   "cell_type": "markdown",
   "metadata": {},
   "source": [
    "##### Описание данных  "
   ]
  },
  {
   "cell_type": "code",
   "execution_count": 33,
   "metadata": {},
   "outputs": [
    {
     "data": {
      "text/html": [
       "<!-- Передвинем таблицы налево -->\n",
       "<style>table {float:left}</style> \n"
      ],
      "text/plain": [
       "<IPython.core.display.HTML object>"
      ]
     },
     "metadata": {},
     "output_type": "display_data"
    }
   ],
   "source": [
    "%%html\n",
    "<!-- Передвинем таблицы налево -->\n",
    "<style>table {float:left}</style> "
   ]
  },
  {
   "cell_type": "markdown",
   "metadata": {},
   "source": [
    "Таблица default.peas — **таблица с информацией о решенных студентами \"горошинах\"**   \n",
    "\n",
    "| Field | Description |\n",
    "| :--- | :--- |\n",
    "| st_id | ID ученика |\n",
    "| timest | Время решения карточки |\n",
    "| correct | Правильно ли решена горошина? |\n",
    "| subject | Дисциплина, в которой находится горошина |"
   ]
  },
  {
   "cell_type": "code",
   "execution_count": null,
   "metadata": {},
   "outputs": [],
   "source": []
  },
  {
   "cell_type": "markdown",
   "metadata": {},
   "source": [
    "##### Задача  \n",
    "Необходимо написать оптимальный запрос, который даст информацию о количестве очень усердных студентов за март 2020 года."
   ]
  },
  {
   "cell_type": "code",
   "execution_count": 34,
   "metadata": {},
   "outputs": [
    {
     "data": {
      "text/html": [
       "<div>\n",
       "<style scoped>\n",
       "    .dataframe tbody tr th:only-of-type {\n",
       "        vertical-align: middle;\n",
       "    }\n",
       "\n",
       "    .dataframe tbody tr th {\n",
       "        vertical-align: top;\n",
       "    }\n",
       "\n",
       "    .dataframe thead th {\n",
       "        text-align: right;\n",
       "    }\n",
       "</style>\n",
       "<table border=\"1\" class=\"dataframe\">\n",
       "  <thead>\n",
       "    <tr style=\"text-align: right;\">\n",
       "      <th></th>\n",
       "      <th>st_id</th>\n",
       "      <th>total_correct</th>\n",
       "    </tr>\n",
       "  </thead>\n",
       "  <tbody>\n",
       "  </tbody>\n",
       "</table>\n",
       "</div>"
      ],
      "text/plain": [
       "Empty DataFrame\n",
       "Columns: [st_id, total_correct]\n",
       "Index: []"
      ]
     },
     "execution_count": 34,
     "metadata": {},
     "output_type": "execute_result"
    }
   ],
   "source": [
    "# SQL req 1\n",
    "sql_request = \"\"\"\n",
    "  SELECT st_id, \n",
    "         SUM(correct) AS total_correct  /*Cумма правильно решенных горошин*/\n",
    "    FROM default.peas\n",
    "   WHERE toStartOfMonth(timest) = '2020-03-01' /*Отбор студентов по марту 2020*/\n",
    "GROUP BY st_id\n",
    "  HAVING total_correct >= 20  /*Условие по 20 правильным горошинам*/\n",
    "\"\"\"\n",
    "\n",
    "df = ph.read_clickhouse(sql_request, connection=connection)\n",
    "df.head(5)"
   ]
  },
  {
   "cell_type": "markdown",
   "metadata": {},
   "source": [
    "В таблице нет данных по марту, да и вообще по 2020 году. Поэтому вывод пустой.  \n",
    "Диапазон дат:"
   ]
  },
  {
   "cell_type": "code",
   "execution_count": 35,
   "metadata": {},
   "outputs": [
    {
     "data": {
      "text/plain": [
       "'Table contain dates from 2021-10-30 13:00:00.000 to 2021-10-31 17:29:52.000'"
      ]
     },
     "execution_count": 35,
     "metadata": {},
     "output_type": "execute_result"
    }
   ],
   "source": [
    "sql_request = \"\"\"\n",
    "SELECT CONCAT(CONCAT('Table contain dates from ', CAST(MIN(timest) AS String)), \n",
    "              CONCAT(' to ', CAST(MAX(timest) AS String))\n",
    "              ) AS time_interval\n",
    "FROM default.peas\n",
    "\"\"\"\n",
    "\n",
    "df = ph.read_clickhouse(sql_request, connection=connection)\n",
    "df.iloc[0, 0]"
   ]
  },
  {
   "cell_type": "markdown",
   "metadata": {},
   "source": [
    "### 2.2 Оптимизация воронки"
   ]
  },
  {
   "cell_type": "markdown",
   "metadata": {},
   "source": [
    "##### Условие\n",
    "Образовательная платформа предлагает пройти студентам курсы по модели trial: студент может решить бесплатно лишь 30 горошин в день.  \n",
    "Для неограниченного количества заданий в определенной дисциплине студенту необходимо приобрести полный доступ.  \n",
    "Команда провела эксперимент, где был протестирован новый экран оплаты."
   ]
  },
  {
   "cell_type": "markdown",
   "metadata": {},
   "source": [
    "##### Описание данных"
   ]
  },
  {
   "cell_type": "markdown",
   "metadata": {},
   "source": [
    "Таблица default.studs — **таблица с принадлежностью учеников к экспериментальной группе**   \n",
    "\n",
    "| Field | Description |\n",
    "| :--- | :--- |\n",
    "| st_id | ID ученика |\n",
    "| test_grp | Метка ученика в данном эксперименте |"
   ]
  },
  {
   "cell_type": "markdown",
   "metadata": {},
   "source": [
    "Таблица default.studs — **таблица с данными о приобретении курса**   \n",
    "\n",
    "| Field | Description |\n",
    "| :--- | :--- |\n",
    "| st_id | ID ученика |\n",
    "| sale_time | Время покупки |\n",
    "| money | Цена, по которой приобрели данный курс |\n",
    "| subject | Дисциплина, на которую приобрели полный доступ |"
   ]
  },
  {
   "cell_type": "markdown",
   "metadata": {},
   "source": [
    "##### Задача\n",
    "Необходимо в **одном** запросе выгрузить следующую информацию о группах пользователей:\n",
    "- ARPU  \n",
    "- ARPAU  \n",
    "- CR в покупку \n",
    "- СR активного пользователя в покупку  \n",
    "- CR пользователя из активности по математике (subject = ’math’) в покупку курса по математике  \n",
    "\n",
    "ARPU считается относительно всех пользователей, попавших в группы.  \n",
    "Активным считается пользователь, за все время решивший больше 10 задач правильно в любых дисциплинах.  \n",
    "Активным по математике считается пользователь, за все время решивший 2 или больше задач правильно по математике."
   ]
  },
  {
   "cell_type": "code",
   "execution_count": 36,
   "metadata": {},
   "outputs": [
    {
     "data": {
      "text/html": [
       "<div>\n",
       "<style scoped>\n",
       "    .dataframe tbody tr th:only-of-type {\n",
       "        vertical-align: middle;\n",
       "    }\n",
       "\n",
       "    .dataframe tbody tr th {\n",
       "        vertical-align: top;\n",
       "    }\n",
       "\n",
       "    .dataframe thead th {\n",
       "        text-align: right;\n",
       "    }\n",
       "</style>\n",
       "<table border=\"1\" class=\"dataframe\">\n",
       "  <thead>\n",
       "    <tr style=\"text-align: right;\">\n",
       "      <th></th>\n",
       "      <th>test_grp</th>\n",
       "      <th>ARPU</th>\n",
       "      <th>ARPAU</th>\n",
       "      <th>CR</th>\n",
       "      <th>CR_active</th>\n",
       "      <th>CR_math</th>\n",
       "    </tr>\n",
       "  </thead>\n",
       "  <tbody>\n",
       "    <tr>\n",
       "      <th>0</th>\n",
       "      <td>control</td>\n",
       "      <td>8393.939</td>\n",
       "      <td>10492.424</td>\n",
       "      <td>0.091</td>\n",
       "      <td>0.085</td>\n",
       "      <td>0.018</td>\n",
       "    </tr>\n",
       "    <tr>\n",
       "      <th>1</th>\n",
       "      <td>pilot</td>\n",
       "      <td>22832.168</td>\n",
       "      <td>32326.733</td>\n",
       "      <td>0.210</td>\n",
       "      <td>0.175</td>\n",
       "      <td>0.028</td>\n",
       "    </tr>\n",
       "  </tbody>\n",
       "</table>\n",
       "</div>"
      ],
      "text/plain": [
       "  test_grp       ARPU      ARPAU     CR  CR_active  CR_math\n",
       "0  control   8393.939  10492.424  0.091      0.085    0.018\n",
       "1    pilot  22832.168  32326.733  0.210      0.175    0.028"
      ]
     },
     "execution_count": 36,
     "metadata": {},
     "output_type": "execute_result"
    }
   ],
   "source": [
    "sql_request = \"\"\"\n",
    "SELECT test_grp,\n",
    "    /* Average Revenue / Users */\n",
    "    SUM(total_money) / COUNT(DISTINCT st_id) AS ARPU,\n",
    "    \n",
    "    /* Average Revenue / Active Users */\n",
    "    SUM(total_money) / SUM(is_active) AS ARPAU, \n",
    "    \n",
    "    /* Users made a purchase / Users */\n",
    "    SUM(is_paid) / COUNT(st_id) AS CR,\n",
    "    \n",
    "    /* If user is active and made a purchase, than is_active + is_paid > 1 */\n",
    "    COUNT(DISTINCT st_id, CASE WHEN is_active + is_paid > 1 THEN 1 ELSE NULL END) / COUNT(DISTINCT st_id) AS CR_active, \n",
    "    \n",
    "     /* If user either not active on math or haven't bought math course, math_active * math_money will equal 0*/\n",
    "    COUNT(DISTINCT st_id, CASE WHEN math_active * math_money > 0 THEN 1 ELSE NULL END) / COUNT(DISTINCT st_id) AS CR_math\n",
    "FROM\n",
    "(\n",
    "    SELECT \n",
    "        p.st_id AS st_id,\n",
    "        grp.test_grp AS test_grp,\n",
    "        p.is_active AS is_active,\n",
    "        p.math_active AS math_active,\n",
    "        p.is_paid AS is_paid,\n",
    "        m.total_money AS total_money,\n",
    "        m.math_money AS math_money\n",
    "    FROM\n",
    "    (\n",
    "        SELECT \n",
    "            st_id,\n",
    "            IF(sum(correct) >= 10, 1, 0) AS is_active,\n",
    "            IF(st_id IN \n",
    "                (\n",
    "                    SELECT st_id \n",
    "                    FROM default.peas \n",
    "                    WHERE subject = 'Math' \n",
    "                    GROUP BY st_id \n",
    "                    HAVING SUM(correct) >= 2\n",
    "                ), 1, 0) AS math_active,            \n",
    "            IF(st_id IN (SELECT DISTINCT st_id FROM default.final_project_check), 1, 0) AS is_paid\n",
    "        FROM default.peas\n",
    "        GROUP BY st_id\n",
    "    ) AS p\n",
    "    \n",
    "    JOIN\n",
    "    (\n",
    "        SELECT * FROM default.studs\n",
    "    ) AS grp\n",
    "    ON p.st_id = grp.st_id\n",
    "    \n",
    "    LEFT JOIN\n",
    "    (\n",
    "        SELECT st_id, total_money, math_money\n",
    "        FROM\n",
    "        (\n",
    "            SELECT st_id, SUM(money) AS total_money\n",
    "            FROM default.final_project_check\n",
    "            GROUP BY st_id\n",
    "        ) AS l\n",
    "        LEFT JOIN\n",
    "        (\n",
    "            SELECT st_id, SUM(money) AS math_money\n",
    "            FROM default.final_project_check\n",
    "            WHERE subject = 'Math'\n",
    "            GROUP BY st_id\n",
    "        ) AS r\n",
    "        ON l.st_id = r.st_id\n",
    "    ) AS m\n",
    "    ON p.st_id = m.st_id\n",
    ")\n",
    "GROUP BY test_grp\n",
    "\n",
    "\"\"\"\n",
    "\n",
    "df = ph.read_clickhouse(sql_request, connection=connection)\n",
    "df = np.round(df, 3)\n",
    "df.head(5)"
   ]
  },
  {
   "cell_type": "markdown",
   "metadata": {},
   "source": [
    " "
   ]
  },
  {
   "cell_type": "markdown",
   "metadata": {},
   "source": [
    " "
   ]
  },
  {
   "cell_type": "markdown",
   "metadata": {},
   "source": [
    "# Задание 3. Python"
   ]
  },
  {
   "cell_type": "markdown",
   "metadata": {},
   "source": [
    "### 3.1 Дополнительные данные  \n",
    "Реализуйте функцию, которая будет автоматически подгружать информацию из дополнительного файла groups_add.csv (заголовки могут отличаться) и на основании дополнительных параметров пересчитывать метрики."
   ]
  },
  {
   "cell_type": "code",
   "execution_count": 37,
   "metadata": {},
   "outputs": [],
   "source": [
    "def add_groups_data(current_groups_public_url='https://disk.yandex.ru/d/58Us0DWOzuWAjg', \n",
    "                    groups_addition_public_url='https://disk.yandex.ru/d/3aARY-P9pfaksg',\n",
    "                    active_studs_public_url='https://disk.yandex.ru/d/prbgU-rZpiXVYg', \n",
    "                    checks_public_url='https://disk.yandex.ru/d/84hTmELphW2sqQ',\n",
    "                   ):\n",
    "    \n",
    "    #groups.csv - файл с информацией о принадлежности пользователя к контрольной или экспериментальной группе \n",
    "    # (А – контроль, B – целевая группа) \n",
    "    # groups_add.csv - дополнительный файл с пользователями, который вам прислали спустя 2 дня после передачи данных\n",
    "    # active_studs.csv - файл с информацией о пользователях, которые зашли на платформу в дни проведения эксперимента. \n",
    "    # checks.csv - файл с информацией об оплатах пользователей в дни проведения эксперимента. \n",
    "    \n",
    "    \"\"\"\n",
    "    Params:\n",
    "        - current_groups_public_url - public url to an OLD groups ya disk file  \n",
    "        - current_groups_public_url - public url to an ADDITIONAL groups ya disk file  \n",
    "        - active_studs - public url to A/B test activity data\n",
    "        - checks - public url to A/B test purchases data\n",
    "        \n",
    "    Returns:\n",
    "        - groups - NEW df with ADDITIONAL groups added to an OLD groups\n",
    "        - metrics_by_group - df with specific metrics(cr, average check)   \n",
    "    \"\"\"\n",
    "    \n",
    "    # Ссылки на файлы данных\n",
    "    data_keys = [current_groups_public_url, groups_addition_public_url, active_studs_public_url, checks_public_url]\n",
    "\n",
    "    # Получим список url для загрузки\n",
    "    download_urls = get_data_ya_disk(data_keys)\n",
    "    \n",
    "    # Загрузим данные в датафреймы    \n",
    "    current_groups  = pd.read_csv(download_urls[0])\n",
    "    groups_addition = pd.read_csv(download_urls[1])\n",
    "    active_studs    = pd.read_csv(download_urls[2])\n",
    "    checks          = pd.read_csv(download_urls[3], sep=';')       \n",
    "    \n",
    "    # С учетом специфики инжиниринга данных(разных разделителей, на данный момент), введена доп проверка размерности данных.\n",
    "    # В будущем, когда(если) данные будут единообразными, проверку можно удалить.\n",
    "    if current_groups.shape[1] != groups_addition.shape[1]:\n",
    "        current_groups  = pd.read_csv(download_urls[0], sep=';')         \n",
    "    \n",
    "    # Объединим данные о принадлежности к группе\n",
    "    groups = pd.concat([current_groups, groups_addition], ignore_index=True)\n",
    "    \n",
    "    # Объеденим данные об эксперименте (активность и оплаты)\n",
    "    checks_activity = active_studs.merge(checks, on='student_id', how='left')\n",
    "    \n",
    "    # Дополним данные об эксперементе, информацией о принадлежности пользователя к группе.\n",
    "    test_results = checks_activity.merge(groups, how='left', left_on='student_id', right_on='id').drop(columns=['student_id'])\n",
    "    \n",
    "    # Построим датафрейм с выбранными метриками \n",
    "    metrics_by_group = (test_results\n",
    "                    .groupby('grp', as_index=False) # Сгруппируем по группе\n",
    "                    .agg(active_users=('id','nunique'), # Активные пользователи\n",
    "                         total_checks=('rev', 'count'), # Кол-во оплат\n",
    "                         avg_check=('rev', 'mean'))     # Средний чек\n",
    "                   )\n",
    "    # Дополним данные конверсией в продажу\n",
    "    metrics_by_group['cr'] = np.round(metrics_by_group.total_checks / metrics_by_group.active_users, 4)\n",
    "    \n",
    "    # Вернем датафрейм с новыми данными о принадлежности к группам и датафрейм с пересчитанными метриками.\n",
    "    return groups, metrics_by_group"
   ]
  },
  {
   "cell_type": "code",
   "execution_count": 38,
   "metadata": {},
   "outputs": [],
   "source": [
    "groups, metrics = add_groups_data()"
   ]
  },
  {
   "cell_type": "code",
   "execution_count": 39,
   "metadata": {},
   "outputs": [
    {
     "data": {
      "text/html": [
       "<div>\n",
       "<style scoped>\n",
       "    .dataframe tbody tr th:only-of-type {\n",
       "        vertical-align: middle;\n",
       "    }\n",
       "\n",
       "    .dataframe tbody tr th {\n",
       "        vertical-align: top;\n",
       "    }\n",
       "\n",
       "    .dataframe thead th {\n",
       "        text-align: right;\n",
       "    }\n",
       "</style>\n",
       "<table border=\"1\" class=\"dataframe\">\n",
       "  <thead>\n",
       "    <tr style=\"text-align: right;\">\n",
       "      <th></th>\n",
       "      <th>grp</th>\n",
       "      <th>active_users</th>\n",
       "      <th>total_checks</th>\n",
       "      <th>avg_check</th>\n",
       "      <th>cr</th>\n",
       "    </tr>\n",
       "  </thead>\n",
       "  <tbody>\n",
       "    <tr>\n",
       "      <th>0</th>\n",
       "      <td>A</td>\n",
       "      <td>1538</td>\n",
       "      <td>78</td>\n",
       "      <td>933.589744</td>\n",
       "      <td>0.0507</td>\n",
       "    </tr>\n",
       "    <tr>\n",
       "      <th>1</th>\n",
       "      <td>B</td>\n",
       "      <td>6803</td>\n",
       "      <td>314</td>\n",
       "      <td>1257.878992</td>\n",
       "      <td>0.0462</td>\n",
       "    </tr>\n",
       "  </tbody>\n",
       "</table>\n",
       "</div>"
      ],
      "text/plain": [
       "  grp  active_users  total_checks    avg_check      cr\n",
       "0   A          1538            78   933.589744  0.0507\n",
       "1   B          6803           314  1257.878992  0.0462"
      ]
     },
     "execution_count": 39,
     "metadata": {},
     "output_type": "execute_result"
    }
   ],
   "source": [
    "metrics"
   ]
  },
  {
   "cell_type": "markdown",
   "metadata": {},
   "source": [
    "### 3.2 Построение графиков  \n",
    "Реализуйте функцию, которая будет строить графики по получаемым метрикам."
   ]
  },
  {
   "cell_type": "code",
   "execution_count": 40,
   "metadata": {},
   "outputs": [],
   "source": [
    "def metrics_viz(metrics):\n",
    "    \n",
    "    # Значения метрик для контрольной группы\n",
    "    avg_check_A = metrics.query('grp == \"A\"').avg_check.values[0]    \n",
    "    cr_A = metrics.query('grp == \"A\"').cr.values[0]\n",
    "    \n",
    "    fig, (ax1, ax2) = plt.subplots(nrows=1, ncols=2, figsize=(20,5), sharey=True)\n",
    "\n",
    "    sns.barplot(data=metrics, x='avg_check', y='grp', ax=ax1)\n",
    "    sns.barplot(data=metrics, x='cr', y='grp', ax=ax2)\n",
    "\n",
    "    ax1.set_xlabel('Average check')\n",
    "    ax1.set_ylabel('Group')       \n",
    "    ax1.axvline(x=avg_check_A, ymin=0, ymax=1, color='red', linestyle='--')\n",
    "\n",
    "    ax2.set_xlabel('Conversion rate')\n",
    "    ax2.set_ylabel('')\n",
    "    ax2.axvline(x=cr_A, ymin=0, ymax=1, color='red', linestyle='--')\n",
    "\n",
    "    plt.suptitle('Metrics by group(A/B)')\n",
    "\n",
    "    sns.despine()\n",
    "    plt.show()\n",
    "    \n",
    "    "
   ]
  },
  {
   "cell_type": "code",
   "execution_count": 41,
   "metadata": {},
   "outputs": [
    {
     "data": {
      "image/png": "[encoded data removed]",
      "text/plain": [
       "<Figure size 1440x360 with 2 Axes>"
      ]
     },
     "metadata": {},
     "output_type": "display_data"
    }
   ],
   "source": [
    "metrics_viz(metrics)"
   ]
  },
  {
   "cell_type": "markdown",
   "metadata": {},
   "source": [
    " "
   ]
  }
 ],
 "metadata": {
  "kernelspec": {
   "display_name": "Python 3",
   "language": "python",
   "name": "python3"
  },
  "language_info": {
   "codemirror_mode": {
    "name": "ipython",
    "version": 3
   },
   "file_extension": ".py",
   "mimetype": "text/x-python",
   "name": "python",
   "nbconvert_exporter": "python",
   "pygments_lexer": "ipython3",
   "version": "3.7.3"
  }
 },
 "nbformat": 4,
 "nbformat_minor": 4
}
