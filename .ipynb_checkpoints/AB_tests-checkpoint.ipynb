{
 "cells": [
  {
   "cell_type": "code",
   "execution_count": 1,
   "metadata": {},
   "outputs": [],
   "source": [
    "# Data operations\n",
    "import pandas as pd\n",
    "import numpy as np\n",
    "\n",
    "# Data import\n",
    "from get_data import get_data_ya_disk\n",
    "\n",
    "# Viz\n",
    "import matplotlib.pyplot as plt\n",
    "import seaborn as sns\n",
    "\n",
    "# Stats\n",
    "from scipy.stats import chi2_contingency\n",
    "\n",
    "# SQL tasks\n",
    "import pandahouse as ph\n",
    "\n",
    "# Additional\n",
    "from bootstrap import get_bootstrap"
   ]
  },
  {
   "cell_type": "markdown",
   "metadata": {},
   "source": [
    "## Visualization settings 'by default'"
   ]
  },
  {
   "cell_type": "code",
   "execution_count": 2,
   "metadata": {},
   "outputs": [],
   "source": [
    "default_viz = {'figure.titlesize': 20, 'legend.fontsize': 16, 'legend.title_fontsize': 16,\n",
    "               'axes.titlesize': 20, 'axes.labelsize': 12, 'axes.titlepad': 18,                \n",
    "              }\n",
    "\n",
    "sns.set_theme(style=\"whitegrid\", palette=\"rocket\", rc=default_viz)"
   ]
  },
  {
   "cell_type": "markdown",
   "metadata": {},
   "source": [
    "# A/B – test"
   ]
  },
  {
   "cell_type": "markdown",
   "metadata": {},
   "source": [
    "### There are 4 csv files contains data about the test:  \n",
    "**groups.csv** - a file with information about the user's belonging to the control or experimental group (A - control, B - target group)  \n",
    "**groups_add.csv** - additional file with users, which was sent 2 days after the data transfer\n",
    "\n",
    "**active_studs.csv** - a file with information about users who logged into the platform on the days of the experiment.  \n",
    "**checks.csv** - a file with information about user payments on the days of the experiment. "
   ]
  },
  {
   "cell_type": "markdown",
   "metadata": {},
   "source": [
    "## Data import"
   ]
  },
  {
   "cell_type": "code",
   "execution_count": 3,
   "metadata": {},
   "outputs": [
    {
     "name": "stdout",
     "output_type": "stream",
     "text": [
      "Help on function get_data_ya_disk in module get_data:\n",
      "\n",
      "get_data_ya_disk(data_keys)\n",
      "    Params:\n",
      "        - list of public urls to ya disk files        \n",
      "    Return:\n",
      "        - list of download urls\n",
      "\n"
     ]
    }
   ],
   "source": [
    "help(get_data_ya_disk)"
   ]
  },
  {
   "cell_type": "code",
   "execution_count": 4,
   "metadata": {},
   "outputs": [],
   "source": [
    "# Direct public links to the files\n",
    "data_keys = ['https://disk.yandex.ru/d/58Us0DWOzuWAjg', \n",
    "             'https://disk.yandex.ru/d/3aARY-P9pfaksg',\n",
    "             'https://disk.yandex.ru/d/prbgU-rZpiXVYg',\n",
    "             'https://disk.yandex.ru/d/84hTmELphW2sqQ'] \n",
    "\n",
    "# Getting URLs for API request\n",
    "download_urls = get_data_ya_disk(data_keys)"
   ]
  },
  {
   "cell_type": "code",
   "execution_count": 5,
   "metadata": {},
   "outputs": [],
   "source": [
    "# Uploading Data\n",
    "\n",
    "# Test results\n",
    "groups       = pd.read_csv(download_urls[0], sep=';') \n",
    "# Additional test results\n",
    "groups_add   = pd.read_csv(download_urls[1])\n",
    "# Active users\n",
    "active_studs = pd.read_csv(download_urls[2])\n",
    "# Paying users\n",
    "checks       = pd.read_csv(download_urls[3], sep=';')"
   ]
  },
  {
   "cell_type": "markdown",
   "metadata": {},
   "source": [
    "***Remark***\n",
    "The source data uses different separators, it is worth paying attention of engineers."
   ]
  },
  {
   "cell_type": "markdown",
   "metadata": {},
   "source": [
    "## Data preprocessing"
   ]
  },
  {
   "cell_type": "markdown",
   "metadata": {},
   "source": [
    "Adding a belated file with user data to the main one"
   ]
  },
  {
   "cell_type": "code",
   "execution_count": 6,
   "metadata": {},
   "outputs": [],
   "source": [
    "groups = pd.concat([groups, groups_add], ignore_index=True)"
   ]
  },
  {
   "cell_type": "markdown",
   "metadata": {},
   "source": [
    "Brief overview of provided data"
   ]
  },
  {
   "cell_type": "code",
   "execution_count": 7,
   "metadata": {},
   "outputs": [
    {
     "name": "stdout",
     "output_type": "stream",
     "text": [
      "<class 'pandas.core.frame.DataFrame'>\n",
      "RangeIndex: 74576 entries, 0 to 74575\n",
      "Data columns (total 2 columns):\n",
      " #   Column  Non-Null Count  Dtype \n",
      "---  ------  --------------  ----- \n",
      " 0   id      74576 non-null  int64 \n",
      " 1   grp     74576 non-null  object\n",
      "dtypes: int64(1), object(1)\n",
      "memory usage: 1.1+ MB\n"
     ]
    }
   ],
   "source": [
    "groups.info()"
   ]
  },
  {
   "cell_type": "code",
   "execution_count": 8,
   "metadata": {},
   "outputs": [
    {
     "name": "stdout",
     "output_type": "stream",
     "text": [
      "<class 'pandas.core.frame.DataFrame'>\n",
      "RangeIndex: 541 entries, 0 to 540\n",
      "Data columns (total 2 columns):\n",
      " #   Column      Non-Null Count  Dtype  \n",
      "---  ------      --------------  -----  \n",
      " 0   student_id  541 non-null    int64  \n",
      " 1   rev         541 non-null    float64\n",
      "dtypes: float64(1), int64(1)\n",
      "memory usage: 8.6 KB\n"
     ]
    }
   ],
   "source": [
    "checks.info()"
   ]
  },
  {
   "cell_type": "code",
   "execution_count": 9,
   "metadata": {},
   "outputs": [
    {
     "name": "stdout",
     "output_type": "stream",
     "text": [
      "<class 'pandas.core.frame.DataFrame'>\n",
      "RangeIndex: 8341 entries, 0 to 8340\n",
      "Data columns (total 1 columns):\n",
      " #   Column      Non-Null Count  Dtype\n",
      "---  ------      --------------  -----\n",
      " 0   student_id  8341 non-null   int64\n",
      "dtypes: int64(1)\n",
      "memory usage: 65.3 KB\n"
     ]
    }
   ],
   "source": [
    "active_studs.info()"
   ]
  },
  {
   "cell_type": "markdown",
   "metadata": {},
   "source": [
    "There are no missing values in the data.  \n",
    "The data itself is quite \"conservative\", we only have the distribution of users by groups, traffic and checks in the process of the experiment.  \n",
    "No data about the duration of the experiment, the location of the user, or other general information"
   ]
  },
  {
   "cell_type": "markdown",
   "metadata": {},
   "source": [
    "Visualizing distribution of users for Test and Control groups"
   ]
  },
  {
   "cell_type": "code",
   "execution_count": 10,
   "metadata": {},
   "outputs": [
    {
     "data": {
      "image/png": "[encoded data removed]",
      "text/plain": [
       "<Figure size 432x288 with 1 Axes>"
      ]
     },
     "metadata": {},
     "output_type": "display_data"
    }
   ],
   "source": [
    "ab_distribution = groups.groupby('grp', as_index=False).agg(total=('id', 'count'))\n",
    "\n",
    "sns.barplot(data=ab_distribution, x='grp', y='total')\n",
    "\n",
    "plt.xlabel('Group')\n",
    "plt.ylabel('Users')\n",
    "plt.title('Distribution of users by Control(A) and Test(B) groups')\n",
    "\n",
    "sns.despine()\n",
    "plt.show()"
   ]
  },
  {
   "cell_type": "code",
   "execution_count": 11,
   "metadata": {},
   "outputs": [
    {
     "data": {
      "text/html": [
       "<div>\n",
       "<style scoped>\n",
       "    .dataframe tbody tr th:only-of-type {\n",
       "        vertical-align: middle;\n",
       "    }\n",
       "\n",
       "    .dataframe tbody tr th {\n",
       "        vertical-align: top;\n",
       "    }\n",
       "\n",
       "    .dataframe thead th {\n",
       "        text-align: right;\n",
       "    }\n",
       "</style>\n",
       "<table border=\"1\" class=\"dataframe\">\n",
       "  <thead>\n",
       "    <tr style=\"text-align: right;\">\n",
       "      <th></th>\n",
       "      <th>grp</th>\n",
       "      <th>total</th>\n",
       "    </tr>\n",
       "  </thead>\n",
       "  <tbody>\n",
       "    <tr>\n",
       "      <th>0</th>\n",
       "      <td>A</td>\n",
       "      <td>14693</td>\n",
       "    </tr>\n",
       "    <tr>\n",
       "      <th>1</th>\n",
       "      <td>B</td>\n",
       "      <td>59883</td>\n",
       "    </tr>\n",
       "  </tbody>\n",
       "</table>\n",
       "</div>"
      ],
      "text/plain": [
       "  grp  total\n",
       "0   A  14693\n",
       "1   B  59883"
      ]
     },
     "execution_count": 11,
     "metadata": {},
     "output_type": "execute_result"
    }
   ],
   "source": [
    "ab_distribution"
   ]
  },
  {
   "cell_type": "markdown",
   "metadata": {},
   "source": [
    "We can see a huge disbalance between groups. This is not normal. But we can only work with a data 'as it is'"
   ]
  },
  {
   "cell_type": "markdown",
   "metadata": {},
   "source": [
    "Checking the information about payments"
   ]
  },
  {
   "cell_type": "code",
   "execution_count": 12,
   "metadata": {},
   "outputs": [
    {
     "data": {
      "image/png": "[encoded data removed]",
      "text/plain": [
       "<Figure size 360x360 with 1 Axes>"
      ]
     },
     "metadata": {},
     "output_type": "display_data"
    }
   ],
   "source": [
    "# AOV\n",
    "avg_check = np.round(checks.rev.mean(), 2)\n",
    "\n",
    "# Visualization\n",
    "sns.displot(checks.rev)\n",
    "\n",
    "plt.xlabel('Check')\n",
    "plt.title('Distribution of check values')\n",
    "plt.axvline(x=avg_check, \n",
    "            ymin=0, \n",
    "            ymax=0.95, \n",
    "            color='red',\n",
    "            linestyle='--',\n",
    "            label='AOV\\n' + str(avg_check)\n",
    "           )\n",
    "\n",
    "sns.despine()\n",
    "plt.legend()\n",
    "plt.show()"
   ]
  },
  {
   "cell_type": "markdown",
   "metadata": {},
   "source": [
    "As expected, we see that more users have a check below the average.  \n",
    "However, there is a significant \"outlier\" around 2000. Let's take a closer look."
   ]
  },
  {
   "cell_type": "code",
   "execution_count": 13,
   "metadata": {},
   "outputs": [
    {
     "data": {
      "text/plain": [
       "1900.0000    97\n",
       "290.0000     94\n",
       "690.0000     78\n",
       "199.0000     46\n",
       "990.0000     41\n",
       "1900.0001    36\n",
       "840.0000     27\n",
       "1140.0000    25\n",
       "580.0000     15\n",
       "590.0000     11\n",
       "Name: rev, dtype: int64"
      ]
     },
     "execution_count": 13,
     "metadata": {},
     "output_type": "execute_result"
    }
   ],
   "source": [
    "checks.rev.value_counts().head(10)"
   ]
  },
  {
   "cell_type": "markdown",
   "metadata": {},
   "source": [
    "On closer inspection, we see that:\n",
    "1. The number of users with a check of 1900 - prevails\n",
    "2. Moreover, there is a significant group of users with a check of 1900.0001\n",
    "\n",
    "***Inference 1***  \n",
    "In the 'checks' dataframe, in the rev column, we have a check for each user.  \n",
    "4 decimal notation system is often used in accounting, but this does not make sense for user checks.  \n",
    "This is most likely a data collection error.  \n",
    "We will round to 2 decimal places, so the group of users with check 1900.0000 and 1900.0001 will be merge. \n",
    "\n",
    "***Inference 2***  \n",
    "Such an outlier in the average check is not typical, the possible reasons are:\n",
    "1. We have a super selling item that everyone buys with a price of 1900.\n",
    "2. Error while collecting data.\n",
    "\n",
    "Since we have no introductory information about the structure of the web-site or products, it is difficult to draw unambiguous conclusions."
   ]
  },
  {
   "cell_type": "code",
   "execution_count": 14,
   "metadata": {},
   "outputs": [],
   "source": [
    "# Rounding up\n",
    "checks.rev = np.round(checks.rev, 2)"
   ]
  },
  {
   "cell_type": "markdown",
   "metadata": {},
   "source": [
    "Let's see which group the users with check 1900 belong to.  "
   ]
  },
  {
   "cell_type": "code",
   "execution_count": 15,
   "metadata": {},
   "outputs": [],
   "source": [
    "ab_checks = checks.merge(groups, left_on='student_id', right_on='id', how='left')\n",
    "ab_checks.drop(columns='student_id', inplace=True)"
   ]
  },
  {
   "cell_type": "code",
   "execution_count": 16,
   "metadata": {},
   "outputs": [
    {
     "data": {
      "text/plain": [
       "B    133\n",
       "Name: grp, dtype: int64"
      ]
     },
     "execution_count": 16,
     "metadata": {},
     "output_type": "execute_result"
    }
   ],
   "source": [
    "# Let's see which group the users with the \"non-standard check\" belong to\n",
    "ab_checks.query('rev == 1900').grp.value_counts()"
   ]
  },
  {
   "cell_type": "markdown",
   "metadata": {},
   "source": [
    "All users are from the test (B) group.  \n",
    "Several assumptions can be made:  \n",
    "1. This is an accident, since the distribution of groups is highly uneven (80% of users belong to group B).  \n",
    "2. Our payment mechanic changes somehow affected specifically products with a price of 1900  \n",
    "3. In addition to changing the mechanics of payment, something else has changed. An inconsistent promotion from another department, a parallel test with a different hypothesis but on the same users, seasonal demand for a given product, etc.\n",
    "\n",
    "As in the conclusions earlier, it is impossible to name a single reason, since the input data is not enough."
   ]
  },
  {
   "cell_type": "markdown",
   "metadata": {},
   "source": [
    "***Inference 3***  \n",
    "Since we do not have confirmation or refutation of the fact that the experiment was conducted incorrectly, we will work with the data \"as is\" to analyze the test results."
   ]
  },
  {
   "cell_type": "markdown",
   "metadata": {},
   "source": [
    "## Metrics  \n",
    "1. Conversion rate, as the ratio of users who made a purchase to the total number of users. We expect growth.  \n",
    "2. AOV. We expect growth.\n",
    "\n",
    "***Remark***  \n",
    "Only data on the amount of traffic and the check of users are available, there are no other indicators.  \n",
    "Generally speaking, a success metric(s) must be chosen **before** the experiment is performed, otherwise it will be a guessing game.  \n",
    "In this case, based on the hypothesis and data, we can assume that the metrics described above were chosen.\n",
    "\n",
    "Thus, let's try to interpret the results of the A / B test in terms of the metrics described above."
   ]
  },
  {
   "cell_type": "markdown",
   "metadata": {},
   "source": [
    "To calculate the metrics, we should combine data on purchases and activity."
   ]
  },
  {
   "cell_type": "code",
   "execution_count": 17,
   "metadata": {},
   "outputs": [],
   "source": [
    "checks_activity = active_studs.merge(checks, on='student_id', how='left')"
   ]
  },
  {
   "cell_type": "code",
   "execution_count": 18,
   "metadata": {},
   "outputs": [
    {
     "name": "stdout",
     "output_type": "stream",
     "text": [
      "<class 'pandas.core.frame.DataFrame'>\n",
      "Int64Index: 8341 entries, 0 to 8340\n",
      "Data columns (total 2 columns):\n",
      " #   Column      Non-Null Count  Dtype  \n",
      "---  ------      --------------  -----  \n",
      " 0   student_id  8341 non-null   int64  \n",
      " 1   rev         392 non-null    float64\n",
      "dtypes: float64(1), int64(1)\n",
      "memory usage: 195.5 KB\n"
     ]
    }
   ],
   "source": [
    "checks_activity.info()"
   ]
  },
  {
   "cell_type": "code",
   "execution_count": 19,
   "metadata": {},
   "outputs": [
    {
     "name": "stdout",
     "output_type": "stream",
     "text": [
      "<class 'pandas.core.frame.DataFrame'>\n",
      "RangeIndex: 541 entries, 0 to 540\n",
      "Data columns (total 2 columns):\n",
      " #   Column      Non-Null Count  Dtype  \n",
      "---  ------      --------------  -----  \n",
      " 0   student_id  541 non-null    int64  \n",
      " 1   rev         541 non-null    float64\n",
      "dtypes: float64(1), int64(1)\n",
      "memory usage: 8.6 KB\n"
     ]
    }
   ],
   "source": [
    "checks.info()"
   ]
  },
  {
   "cell_type": "markdown",
   "metadata": {},
   "source": [
    "We see that during the merging, we lost a significant part of the users from the purchase data.  \n",
    "The big question is how users were able to make a purchase without entering the site.  \n",
    "This once again indicates that an error may have been made during data collection.  \n",
    "It also says that all events must be accompanied by time markers.\n",
    "\n",
    "***Inference***  \n",
    "In this case, we will proceed from the fact that the user could not make a purchase without going to the site."
   ]
  },
  {
   "cell_type": "markdown",
   "metadata": {},
   "source": [
    "Appending groups info"
   ]
  },
  {
   "cell_type": "code",
   "execution_count": 20,
   "metadata": {},
   "outputs": [
    {
     "data": {
      "text/html": [
       "<div>\n",
       "<style scoped>\n",
       "    .dataframe tbody tr th:only-of-type {\n",
       "        vertical-align: middle;\n",
       "    }\n",
       "\n",
       "    .dataframe tbody tr th {\n",
       "        vertical-align: top;\n",
       "    }\n",
       "\n",
       "    .dataframe thead th {\n",
       "        text-align: right;\n",
       "    }\n",
       "</style>\n",
       "<table border=\"1\" class=\"dataframe\">\n",
       "  <thead>\n",
       "    <tr style=\"text-align: right;\">\n",
       "      <th></th>\n",
       "      <th>rev</th>\n",
       "      <th>id</th>\n",
       "      <th>grp</th>\n",
       "    </tr>\n",
       "  </thead>\n",
       "  <tbody>\n",
       "    <tr>\n",
       "      <th>0</th>\n",
       "      <td>NaN</td>\n",
       "      <td>581585</td>\n",
       "      <td>A</td>\n",
       "    </tr>\n",
       "    <tr>\n",
       "      <th>1</th>\n",
       "      <td>NaN</td>\n",
       "      <td>5723133</td>\n",
       "      <td>A</td>\n",
       "    </tr>\n",
       "    <tr>\n",
       "      <th>2</th>\n",
       "      <td>NaN</td>\n",
       "      <td>3276743</td>\n",
       "      <td>B</td>\n",
       "    </tr>\n",
       "    <tr>\n",
       "      <th>3</th>\n",
       "      <td>NaN</td>\n",
       "      <td>4238589</td>\n",
       "      <td>A</td>\n",
       "    </tr>\n",
       "    <tr>\n",
       "      <th>4</th>\n",
       "      <td>NaN</td>\n",
       "      <td>4475369</td>\n",
       "      <td>B</td>\n",
       "    </tr>\n",
       "  </tbody>\n",
       "</table>\n",
       "</div>"
      ],
      "text/plain": [
       "   rev       id grp\n",
       "0  NaN   581585   A\n",
       "1  NaN  5723133   A\n",
       "2  NaN  3276743   B\n",
       "3  NaN  4238589   A\n",
       "4  NaN  4475369   B"
      ]
     },
     "execution_count": 20,
     "metadata": {},
     "output_type": "execute_result"
    }
   ],
   "source": [
    "test_results = (checks_activity\n",
    "                .merge(groups, how='left', left_on='student_id', right_on='id')\n",
    "                .drop(columns=['student_id'])\n",
    "               )\n",
    "test_results.head(5)"
   ]
  },
  {
   "cell_type": "code",
   "execution_count": 21,
   "metadata": {},
   "outputs": [
    {
     "name": "stdout",
     "output_type": "stream",
     "text": [
      "<class 'pandas.core.frame.DataFrame'>\n",
      "Int64Index: 8341 entries, 0 to 8340\n",
      "Data columns (total 3 columns):\n",
      " #   Column  Non-Null Count  Dtype  \n",
      "---  ------  --------------  -----  \n",
      " 0   rev     392 non-null    float64\n",
      " 1   id      8341 non-null   int64  \n",
      " 2   grp     8341 non-null   object \n",
      "dtypes: float64(1), int64(1), object(1)\n",
      "memory usage: 260.7+ KB\n"
     ]
    }
   ],
   "source": [
    "test_results.info()"
   ]
  },
  {
   "cell_type": "code",
   "execution_count": 22,
   "metadata": {},
   "outputs": [
    {
     "data": {
      "text/html": [
       "<div>\n",
       "<style scoped>\n",
       "    .dataframe tbody tr th:only-of-type {\n",
       "        vertical-align: middle;\n",
       "    }\n",
       "\n",
       "    .dataframe tbody tr th {\n",
       "        vertical-align: top;\n",
       "    }\n",
       "\n",
       "    .dataframe thead th {\n",
       "        text-align: right;\n",
       "    }\n",
       "</style>\n",
       "<table border=\"1\" class=\"dataframe\">\n",
       "  <thead>\n",
       "    <tr style=\"text-align: right;\">\n",
       "      <th></th>\n",
       "      <th>grp</th>\n",
       "      <th>active_users</th>\n",
       "      <th>total_checks</th>\n",
       "      <th>avg_check</th>\n",
       "      <th>cr</th>\n",
       "    </tr>\n",
       "  </thead>\n",
       "  <tbody>\n",
       "    <tr>\n",
       "      <th>0</th>\n",
       "      <td>A</td>\n",
       "      <td>1538</td>\n",
       "      <td>78</td>\n",
       "      <td>933.589744</td>\n",
       "      <td>0.0507</td>\n",
       "    </tr>\n",
       "    <tr>\n",
       "      <th>1</th>\n",
       "      <td>B</td>\n",
       "      <td>6803</td>\n",
       "      <td>314</td>\n",
       "      <td>1257.878981</td>\n",
       "      <td>0.0462</td>\n",
       "    </tr>\n",
       "  </tbody>\n",
       "</table>\n",
       "</div>"
      ],
      "text/plain": [
       "  grp  active_users  total_checks    avg_check      cr\n",
       "0   A          1538            78   933.589744  0.0507\n",
       "1   B          6803           314  1257.878981  0.0462"
      ]
     },
     "execution_count": 22,
     "metadata": {},
     "output_type": "execute_result"
    }
   ],
   "source": [
    "# Calculating neccessary data for A and B groups\n",
    "metrics_by_group = (test_results\n",
    "                    .groupby('grp', as_index=False)\n",
    "                    .agg(active_users=('id','nunique'), \n",
    "                         total_checks=('rev', 'count'), \n",
    "                         avg_check=('rev', 'mean'))\n",
    "                   )\n",
    "\n",
    "# Conversion rate\n",
    "metrics_by_group['cr'] = np.round(metrics_by_group.total_checks / metrics_by_group.active_users, 4)\n",
    "\n",
    "metrics_by_group"
   ]
  },
  {
   "cell_type": "markdown",
   "metadata": {},
   "source": [
    "***Inference***  \n",
    "Preliminarily, we can say that the AOV has changed significantly.  \n",
    "Highly likely stat differences will be significant as well.  \n",
    "With the conversion it is not so clear. Let's check with the help of statistical criteria."
   ]
  },
  {
   "cell_type": "markdown",
   "metadata": {},
   "source": [
    "### Hypothesis 1  \n",
    "\n",
    "**If** we introduce a new payment mechanism for services on the web-site.  \n",
    "**Then** we will increase the AOV \n",
    "\n",
    "**In statistical view:**  \n",
    "H0 - there are no differences in the AOV for the test and control groups.   \n",
    "H1 - due to the new payment mechanics, the AOV has changed statistically significantly."
   ]
  },
  {
   "cell_type": "markdown",
   "metadata": {},
   "source": [
    "##### Selection of a statistical criterion for analyzing the results of A/B test.\n",
    "\n",
    "By the type of variable, the AOV is continuous. We are searching for the differences between groups and compare averages.\n",
    "Accordingly, the main candidates for stat. criterion are - T-test and U-test.\n",
    "We have already seen the distribution of the studied metric before, let's look at the breakdown by groups."
   ]
  },
  {
   "cell_type": "markdown",
   "metadata": {},
   "source": [
    "To analyze the AOV, we will leave only those users who made purchases"
   ]
  },
  {
   "cell_type": "code",
   "execution_count": 23,
   "metadata": {},
   "outputs": [],
   "source": [
    "test_results_avg = test_results.dropna()"
   ]
  },
  {
   "cell_type": "code",
   "execution_count": 24,
   "metadata": {},
   "outputs": [
    {
     "data": {
      "image/png": "[encoded data removed]",
      "text/plain": [
       "<Figure size 720x360 with 2 Axes>"
      ]
     },
     "metadata": {},
     "output_type": "display_data"
    }
   ],
   "source": [
    "fig, (ax1, ax2) = plt.subplots(nrows=1, ncols=2, figsize=(10,5))\n",
    "\n",
    "sns.boxplot(data=test_results_avg, x='rev', y='grp', ax=ax1)\n",
    "sns.histplot(data=test_results_avg, x='rev', hue='grp', ax=ax2)\n",
    "\n",
    "ax1.set_xlabel('Revenue')\n",
    "ax1.set_ylabel('Group')\n",
    "\n",
    "ax2.set_xlabel('Revenue')\n",
    "ax2.set_ylabel('Users')\n",
    "\n",
    "plt.suptitle('Revenue distribution')\n",
    "\n",
    "sns.despine()\n",
    "plt.show()"
   ]
  },
  {
   "cell_type": "markdown",
   "metadata": {},
   "source": [
    "We can see that the distributions are not symmetric, have outliers, and are not unimodal.\n",
    "Thus, the T-test is not applicable."
   ]
  },
  {
   "cell_type": "markdown",
   "metadata": {},
   "source": [
    "To apply the Mann-Whitney test, the distribution must:  \n",
    "- have at least 3 attribute values  \n",
    "- have few matching values (less than 10)  \n",
    "However, at the pre-processing stage, we saw that we had a lot (more than 100) checks with the amount of exactly 1900.  \n",
    "Let's check again just in case."
   ]
  },
  {
   "cell_type": "code",
   "execution_count": 25,
   "metadata": {},
   "outputs": [
    {
     "data": {
      "text/plain": [
       "1900.0    128\n",
       "290.0      70\n",
       "199.0      32\n",
       "840.0      24\n",
       "990.0      22\n",
       "Name: rev, dtype: int64"
      ]
     },
     "execution_count": 25,
     "metadata": {},
     "output_type": "execute_result"
    }
   ],
   "source": [
    "test_results_avg.rev.value_counts().head(5)"
   ]
  },
  {
   "cell_type": "markdown",
   "metadata": {},
   "source": [
    "Thus the U-test is also not applicable in this case.  \n",
    "If neither the U-test nor the T-test can be applied, the Bootstrap remains."
   ]
  },
  {
   "cell_type": "markdown",
   "metadata": {},
   "source": [
    "Let's use the prepared get_bootstrap function from the bootstrap module.  \n",
    "As a statistic, we use the comparison of medians, since we have significant outliers."
   ]
  },
  {
   "cell_type": "code",
   "execution_count": 26,
   "metadata": {},
   "outputs": [
    {
     "name": "stdout",
     "output_type": "stream",
     "text": [
      "Help on function get_bootstrap in module bootstrap:\n",
      "\n",
      "get_bootstrap(data_1, data_2, boot_subsamples=1000, statistic=<function mean at 0x7f0b2a1761f0>, conf_level=0.95)\n",
      "    Params:\n",
      "        data_1, data_2 - samples\n",
      "        boot_subsamples - bootstrap subsamples quantity\n",
      "        statistic - stat to use\n",
      "        conf_level - confidence level (1 - alpha)\n",
      "    \n",
      "    Returns:\n",
      "        dict with keys:\n",
      "            \"boot_data\": stat diff for each subsample\n",
      "            \"quants\": quants \n",
      "            \"p_value\": p_value\n",
      "\n"
     ]
    }
   ],
   "source": [
    "help(get_bootstrap)"
   ]
  },
  {
   "cell_type": "code",
   "execution_count": 27,
   "metadata": {},
   "outputs": [
    {
     "name": "stdout",
     "output_type": "stream",
     "text": [
      "Method    | p-value | Reject H0(p < 0.05)\n",
      "Bootstrap | 0.0047 | True\n"
     ]
    }
   ],
   "source": [
    "# Writing the results of the control and test groups into the corresponding variables\n",
    "test = test_results_avg.query('grp == \"B\"').rev\n",
    "control = test_results_avg.query('grp == \"A\"').rev\n",
    "\n",
    "# Bootstraping\n",
    "avg_rev_stat_results = get_bootstrap(data_1=test,\n",
    "                                 data_2=control,\n",
    "                                 boot_subsamples=10000,\n",
    "                                 statistic=np.mean,\n",
    "                                 conf_level=0.95)\n",
    "\n",
    "# Writing the resulting significance level to a variable\n",
    "bootstrap_p_val = avg_rev_stat_results['p_value'].round(5)\n",
    "\n",
    "# Checking if we have enough reason to reject the null hypothesis\n",
    "print('Method    | p-value | Reject H0(p < 0.05)')\n",
    "print(f'Bootstrap | {bootstrap_p_val} | {bootstrap_p_val < 0.05}')"
   ]
  },
  {
   "cell_type": "markdown",
   "metadata": {},
   "source": [
    "Thus, we have enough reason to reject the null hypothesis.  \n",
    "This means that with the introduction of a new payment mechanism, we will get a statistically significant increase in the AOV."
   ]
  },
  {
   "cell_type": "markdown",
   "metadata": {},
   "source": [
    "***Addition***  \n",
    "Recall that we have insight that a mistake might be made in collecting data process.  \n",
    "Focusing on the distribution of checks by users, we can assume that there should be about 5 people with a check of 1900.  \n",
    "Let's try to test our hypothesis with these inputs."
   ]
  },
  {
   "cell_type": "code",
   "execution_count": 28,
   "metadata": {},
   "outputs": [],
   "source": [
    "# Keeping 5 users with 1900 check\n",
    "test_results_avg_corrected = pd.concat([test_results_avg.query('rev != 1900'), \n",
    "                                        test_results_avg.query('rev == 1900').head(5)])"
   ]
  },
  {
   "cell_type": "code",
   "execution_count": 29,
   "metadata": {},
   "outputs": [
    {
     "name": "stdout",
     "output_type": "stream",
     "text": [
      "Method    | p-value | Reject H0(p < 0.05)\n",
      "Bootstrap | 0.45811 | False\n"
     ]
    }
   ],
   "source": [
    "# Writing the results of the control and test groups into the corresponding variables\n",
    "test = test_results_avg_corrected.query('grp == \"B\"').rev\n",
    "control = test_results_avg_corrected.query('grp == \"A\"').rev\n",
    "\n",
    "# Bootstraping\n",
    "avg_rev_stat_results = get_bootstrap(data_1=test,\n",
    "                                 data_2=control,\n",
    "                                 boot_subsamples=10000,\n",
    "                                 statistic=np.mean,\n",
    "                                 conf_level=0.95)\n",
    "\n",
    "# Writing the resulting significance level to a variable\n",
    "bootstrap_p_val = avg_rev_stat_results['p_value'].round(5)\n",
    "\n",
    "# Checking if we have enough reason to reject the null hypothesis\n",
    "print('Method    | p-value | Reject H0(p < 0.05)')\n",
    "print(f'Bootstrap | {bootstrap_p_val} | {bootstrap_p_val < 0.05}')"
   ]
  },
  {
   "cell_type": "markdown",
   "metadata": {},
   "source": [
    "And we got a confirmation to the guess that if the data collection was carried out incorrectly and many users with a check of 1900 got into our results, for reasons not related to our initial hypothesis.  \n",
    "Then, if we discard them, we no longer have any reason to reject the null hypothesis.  \n",
    "This means that the payment mechanism did not affect the AOV."
   ]
  },
  {
   "cell_type": "markdown",
   "metadata": {},
   "source": [
    "### Hypothesis 2\n",
    "**If** we introduce a new payment mechanism for services on the web-site.  \n",
    "**Then** we will increase the conversion rate.\n",
    "\n",
    "**In statistical view:**  \n",
    "H0 - there are no differences in conversion rate between the test and control groups.  \n",
    "H1 - due to the new payment mechanics, the conversion rate has changed statistically significantly"
   ]
  },
  {
   "cell_type": "markdown",
   "metadata": {},
   "source": [
    "##### Select a statistical criterion to analyze the results of A/B testing.  \n",
    "For conversion analysis we use χ²"
   ]
  },
  {
   "cell_type": "code",
   "execution_count": 30,
   "metadata": {},
   "outputs": [
    {
     "name": "stdout",
     "output_type": "stream",
     "text": [
      "Method | p-value | Reject H0(p < 0.05)\n",
      "χ²     | 0.46726 | False\n"
     ]
    }
   ],
   "source": [
    "# Keeping only necessary data\n",
    "test_results_cr = metrics_by_group.loc[:,['total_checks', 'active_users']]\n",
    "\n",
    "# Calculating chi2\n",
    "stat, p, dof, expected = chi2_contingency(test_results_cr, correction=False)\n",
    "p = np.round(p, 5)\n",
    "\n",
    "# Checking if we have enough reason to reject the null hypothesis\n",
    "print('Method | p-value | Reject H0(p < 0.05)')\n",
    "print(f'χ²     | {p} | {p < 0.05}')"
   ]
  },
  {
   "cell_type": "markdown",
   "metadata": {},
   "source": [
    "If conversion rate was the target metric, we would have no reason to reject the null hypothesis."
   ]
  },
  {
   "cell_type": "markdown",
   "metadata": {},
   "source": [
    "# A / B test conclusions"
   ]
  },
  {
   "cell_type": "markdown",
   "metadata": {},
   "source": [
    "Summing up, we can say that:\n",
    "1. There are clear signs that a mistake was made in data collecting process  \n",
    "2. If we assume that this is not a mistake, then the new payment mechanism really affected the AOV. \"Rolling out.\"  \n",
    "3. If we discard values that seem erroneous, the new payment mechanism does not have a statistically significant effect on the AOV. \"It makes no sense to roll out.\"  \n",
    "4. The new payment mechanism does not have a statistically significant impact on sales conversions."
   ]
  },
  {
   "cell_type": "markdown",
   "metadata": {},
   "source": [
    " "
   ]
  },
  {
   "cell_type": "markdown",
   "metadata": {},
   "source": [
    "# SQL"
   ]
  },
  {
   "cell_type": "markdown",
   "metadata": {},
   "source": [
    "The SQL database is located in ClickHouse, so we will use the pandahouse module.  \n",
    "To get started, we will set down the parameters to connect to the database"
   ]
  },
  {
   "cell_type": "code",
   "execution_count": 31,
   "metadata": {},
   "outputs": [],
   "source": [
    "connection = dict(database='default',\n",
    "                  host='https://clickhouse.lab.karpov.courses',\n",
    "                  user='student',\n",
    "                  password='dpo_python_2020')"
   ]
  },
  {
   "cell_type": "markdown",
   "metadata": {},
   "source": [
    "### The number of 'diligent' students in March 2020."
   ]
  },
  {
   "cell_type": "markdown",
   "metadata": {},
   "source": [
    "Educational courses consist of various lessons, each of them consists of several small tasks.  \n",
    "Each such small task is called a \"pea\".  \n",
    "\n",
    "Let's call a student 'diligent' if he correctly solved 20 peas at least once during the current month."
   ]
  },
  {
   "cell_type": "code",
   "execution_count": 32,
   "metadata": {},
   "outputs": [
    {
     "data": {
      "text/html": [
       "<!-- Moving tables to the left -->\n",
       "<style>table {float:left}</style> \n"
      ],
      "text/plain": [
       "<IPython.core.display.HTML object>"
      ]
     },
     "metadata": {},
     "output_type": "display_data"
    }
   ],
   "source": [
    "%%html\n",
    "<!-- Moving tables to the left -->\n",
    "<style>table {float:left}</style> "
   ]
  },
  {
   "cell_type": "markdown",
   "metadata": {},
   "source": [
    "##### Data description"
   ]
  },
  {
   "cell_type": "markdown",
   "metadata": {},
   "source": [
    "Table default.peas — **table with information about the 'peas' solved by students**   \n",
    "\n",
    "| Field | Description |\n",
    "| :--- | :--- |\n",
    "| st_id | Student ID |\n",
    "| timest | Time spent on pea |\n",
    "| correct | Is the pea was solved correctly? |\n",
    "| subject | Discipline |"
   ]
  },
  {
   "cell_type": "code",
   "execution_count": 33,
   "metadata": {},
   "outputs": [
    {
     "data": {
      "text/html": [
       "<div>\n",
       "<style scoped>\n",
       "    .dataframe tbody tr th:only-of-type {\n",
       "        vertical-align: middle;\n",
       "    }\n",
       "\n",
       "    .dataframe tbody tr th {\n",
       "        vertical-align: top;\n",
       "    }\n",
       "\n",
       "    .dataframe thead th {\n",
       "        text-align: right;\n",
       "    }\n",
       "</style>\n",
       "<table border=\"1\" class=\"dataframe\">\n",
       "  <thead>\n",
       "    <tr style=\"text-align: right;\">\n",
       "      <th></th>\n",
       "      <th>st_id</th>\n",
       "      <th>total_correct</th>\n",
       "    </tr>\n",
       "  </thead>\n",
       "  <tbody>\n",
       "  </tbody>\n",
       "</table>\n",
       "</div>"
      ],
      "text/plain": [
       "Empty DataFrame\n",
       "Columns: [st_id, total_correct]\n",
       "Index: []"
      ]
     },
     "execution_count": 33,
     "metadata": {},
     "output_type": "execute_result"
    }
   ],
   "source": [
    "# SQL req 1\n",
    "sql_request = \"\"\"\n",
    "  SELECT st_id, \n",
    "         SUM(correct) AS total_correct  /* Sum of correctly solved peas */\n",
    "    FROM default.peas\n",
    "   WHERE toStartOfMonth(timest) = '2020-03-01' /* Setting up date according to the task */\n",
    "GROUP BY st_id\n",
    "  HAVING total_correct >= 20  /* Setting up the number of correctly solved peas according to the task */\n",
    "\"\"\"\n",
    "\n",
    "df = ph.read_clickhouse(sql_request, connection=connection)\n",
    "df.head(5)"
   ]
  },
  {
   "cell_type": "markdown",
   "metadata": {},
   "source": [
    "The table does not contain data for March, and indeed for 2020. So the output is empty.  \n",
    "Date range:"
   ]
  },
  {
   "cell_type": "code",
   "execution_count": 34,
   "metadata": {},
   "outputs": [
    {
     "data": {
      "text/plain": [
       "'Table contain dates from 2021-10-30 13:00:00.000 to 2021-10-31 17:29:52.000'"
      ]
     },
     "execution_count": 34,
     "metadata": {},
     "output_type": "execute_result"
    }
   ],
   "source": [
    "sql_request = \"\"\"\n",
    "SELECT CONCAT(CONCAT('Table contain dates from ', CAST(MIN(timest) AS String)), \n",
    "              CONCAT(' to ', CAST(MAX(timest) AS String))\n",
    "              ) AS time_interval\n",
    "FROM default.peas\n",
    "\"\"\"\n",
    "\n",
    "df = ph.read_clickhouse(sql_request, connection=connection)\n",
    "df.iloc[0, 0]"
   ]
  },
  {
   "cell_type": "markdown",
   "metadata": {},
   "source": [
    "### Funnel optimization"
   ]
  },
  {
   "cell_type": "markdown",
   "metadata": {},
   "source": [
    "##### Description\n",
    "The educational platform offers students to take courses according to the trial model: a student can solve only 30 peas a day for free.  \n",
    "For an unlimited number of tasks in a particular discipline, the student must purchase full access.  \n",
    "The team ran an experiment where they tested the new payment screen."
   ]
  },
  {
   "cell_type": "markdown",
   "metadata": {},
   "source": [
    "##### Data description"
   ]
  },
  {
   "cell_type": "markdown",
   "metadata": {},
   "source": [
    "Table default.studs — **table with students belonging to the experimental group**   \n",
    "\n",
    "| Field | Description |\n",
    "| :--- | :--- |\n",
    "| st_id | Student ID |\n",
    "| test_grp | Student's experimental group |"
   ]
  },
  {
   "cell_type": "markdown",
   "metadata": {},
   "source": [
    "Table default.studs — **table with course acquisition data**   \n",
    "\n",
    "| Field | Description |\n",
    "| :--- | :--- |\n",
    "| st_id | Student ID |\n",
    "| sale_time | Timestamp of purchase |\n",
    "| money | Price of the course |\n",
    "| subject | Paid discipline |"
   ]
  },
  {
   "cell_type": "markdown",
   "metadata": {},
   "source": [
    "##### Task\n",
    "It is necessary to get the following information about user groups in **one** request:  \n",
    "- ARPU  \n",
    "- ARPAU  \n",
    "- CR to purchase  \n",
    "- CR of an active user to a purchase  \n",
    "- User CR from math activity (subject = 'math') to math course purchase\n",
    "\n",
    "ARPU is calculated relative to all users in groups.  \n",
    "An active user is one who has solved more than 10 problems correctly in any discipline for the entire time.  \n",
    "A user who has solved 2 or more problems correctly in mathematics for the entire time is considered active in mathematics."
   ]
  },
  {
   "cell_type": "code",
   "execution_count": 35,
   "metadata": {},
   "outputs": [
    {
     "data": {
      "text/html": [
       "<div>\n",
       "<style scoped>\n",
       "    .dataframe tbody tr th:only-of-type {\n",
       "        vertical-align: middle;\n",
       "    }\n",
       "\n",
       "    .dataframe tbody tr th {\n",
       "        vertical-align: top;\n",
       "    }\n",
       "\n",
       "    .dataframe thead th {\n",
       "        text-align: right;\n",
       "    }\n",
       "</style>\n",
       "<table border=\"1\" class=\"dataframe\">\n",
       "  <thead>\n",
       "    <tr style=\"text-align: right;\">\n",
       "      <th></th>\n",
       "      <th>test_grp</th>\n",
       "      <th>ARPU</th>\n",
       "      <th>ARPAU</th>\n",
       "      <th>CR</th>\n",
       "      <th>CR_active</th>\n",
       "      <th>CR_math</th>\n",
       "    </tr>\n",
       "  </thead>\n",
       "  <tbody>\n",
       "    <tr>\n",
       "      <th>0</th>\n",
       "      <td>control</td>\n",
       "      <td>8393.939</td>\n",
       "      <td>10492.424</td>\n",
       "      <td>0.091</td>\n",
       "      <td>0.085</td>\n",
       "      <td>0.018</td>\n",
       "    </tr>\n",
       "    <tr>\n",
       "      <th>1</th>\n",
       "      <td>pilot</td>\n",
       "      <td>22832.168</td>\n",
       "      <td>32326.733</td>\n",
       "      <td>0.210</td>\n",
       "      <td>0.175</td>\n",
       "      <td>0.028</td>\n",
       "    </tr>\n",
       "  </tbody>\n",
       "</table>\n",
       "</div>"
      ],
      "text/plain": [
       "  test_grp       ARPU      ARPAU     CR  CR_active  CR_math\n",
       "0  control   8393.939  10492.424  0.091      0.085    0.018\n",
       "1    pilot  22832.168  32326.733  0.210      0.175    0.028"
      ]
     },
     "execution_count": 35,
     "metadata": {},
     "output_type": "execute_result"
    }
   ],
   "source": [
    "sql_request = \"\"\"\n",
    "SELECT test_grp,\n",
    "    /* Average Revenue / Users */\n",
    "    SUM(total_money) / COUNT(DISTINCT st_id) AS ARPU,\n",
    "    \n",
    "    /* Average Revenue / Active Users */\n",
    "    SUM(total_money) / SUM(is_active) AS ARPAU, \n",
    "    \n",
    "    /* Users made a purchase / Users */\n",
    "    SUM(is_paid) / COUNT(st_id) AS CR,\n",
    "    \n",
    "    /* If user is active and made a purchase, than is_active + is_paid > 1 */\n",
    "    COUNT(DISTINCT st_id, CASE WHEN is_active + is_paid > 1 THEN 1 ELSE NULL END) / \n",
    "    COUNT(DISTINCT st_id) AS CR_active, \n",
    "    \n",
    "     /* If user either not active on math or haven't bought math course, math_active * math_money will equal 0*/\n",
    "    COUNT(DISTINCT st_id, CASE WHEN math_active * math_money > 0 THEN 1 ELSE NULL END) / \n",
    "    COUNT(DISTINCT st_id) AS CR_math\n",
    "FROM\n",
    "(\n",
    "    SELECT \n",
    "        p.st_id AS st_id,\n",
    "        grp.test_grp AS test_grp,\n",
    "        p.is_active AS is_active,\n",
    "        p.math_active AS math_active,\n",
    "        p.is_paid AS is_paid,\n",
    "        m.total_money AS total_money,\n",
    "        m.math_money AS math_money\n",
    "    FROM\n",
    "    (\n",
    "        SELECT \n",
    "            st_id,\n",
    "            IF(sum(correct) >= 10, 1, 0) AS is_active,\n",
    "            IF(st_id IN \n",
    "                (\n",
    "                    SELECT st_id \n",
    "                    FROM default.peas \n",
    "                    WHERE subject = 'Math' \n",
    "                    GROUP BY st_id \n",
    "                    HAVING SUM(correct) >= 2\n",
    "                ), 1, 0) AS math_active,            \n",
    "            IF(st_id IN (SELECT DISTINCT st_id FROM default.final_project_check), 1, 0) AS is_paid\n",
    "        FROM default.peas\n",
    "        GROUP BY st_id\n",
    "    ) AS p\n",
    "    \n",
    "    JOIN\n",
    "    (\n",
    "        SELECT * FROM default.studs\n",
    "    ) AS grp\n",
    "    ON p.st_id = grp.st_id\n",
    "    \n",
    "    LEFT JOIN\n",
    "    (\n",
    "        SELECT st_id, total_money, math_money\n",
    "        FROM\n",
    "        (\n",
    "            SELECT st_id, SUM(money) AS total_money\n",
    "            FROM default.final_project_check\n",
    "            GROUP BY st_id\n",
    "        ) AS l\n",
    "        LEFT JOIN\n",
    "        (\n",
    "            SELECT st_id, SUM(money) AS math_money\n",
    "            FROM default.final_project_check\n",
    "            WHERE subject = 'Math'\n",
    "            GROUP BY st_id\n",
    "        ) AS r\n",
    "        ON l.st_id = r.st_id\n",
    "    ) AS m\n",
    "    ON p.st_id = m.st_id\n",
    ")\n",
    "GROUP BY test_grp\n",
    "\n",
    "\"\"\"\n",
    "\n",
    "df = ph.read_clickhouse(sql_request, connection=connection)\n",
    "df = np.round(df, 3)\n",
    "df.head(5)"
   ]
  },
  {
   "cell_type": "markdown",
   "metadata": {},
   "source": [
    " "
   ]
  },
  {
   "cell_type": "markdown",
   "metadata": {},
   "source": [
    "# Python"
   ]
  },
  {
   "cell_type": "markdown",
   "metadata": {},
   "source": [
    "### Additional data\n",
    "Let's implement a function that will automatically load information from the additional file groups_add.csv (headers may differ) and recalculate metrics based on additional parameters."
   ]
  },
  {
   "cell_type": "code",
   "execution_count": 36,
   "metadata": {},
   "outputs": [],
   "source": [
    "def add_groups_data(current_groups_public_url='https://disk.yandex.ru/d/58Us0DWOzuWAjg', \n",
    "                    groups_addition_public_url='https://disk.yandex.ru/d/3aARY-P9pfaksg',\n",
    "                    active_studs_public_url='https://disk.yandex.ru/d/prbgU-rZpiXVYg', \n",
    "                    checks_public_url='https://disk.yandex.ru/d/84hTmELphW2sqQ',\n",
    "                   ):\n",
    "   \n",
    "    # groups.csv - a file with information about the user's belonging to the control or experimental group (A - control, B - target group)  \n",
    "    # groups_add.csv - additional file with users, which was sent 2 days after the data transfer\n",
    "    # active_studs.csv - a file with information about users who logged into the platform on the days of the experiment.  \n",
    "    # checks.csv - a file with information about user payments on the days of the experiment.\n",
    "    \n",
    "    \"\"\"\n",
    "    Params:\n",
    "        - current_groups_public_url - public url to an OLD groups ya disk file  \n",
    "        - current_groups_public_url - public url to an ADDITIONAL groups ya disk file  \n",
    "        - active_studs - public url to A/B test activity data\n",
    "        - checks - public url to A/B test purchases data\n",
    "        \n",
    "    Returns:\n",
    "        - groups - NEW df with ADDITIONAL groups added to an OLD groups\n",
    "        - metrics_by_group - df with specific metrics(cr, average check)   \n",
    "    \"\"\"\n",
    "    \n",
    "    # Data public links\n",
    "    data_keys = [current_groups_public_url, groups_addition_public_url, active_studs_public_url, checks_public_url]\n",
    "\n",
    "    # API request URL\n",
    "    download_urls = get_data_ya_disk(data_keys)\n",
    "    \n",
    "    # Uploading data   \n",
    "    current_groups  = pd.read_csv(download_urls[0])\n",
    "    groups_addition = pd.read_csv(download_urls[1])\n",
    "    active_studs    = pd.read_csv(download_urls[2])\n",
    "    checks          = pd.read_csv(download_urls[3], sep=';')       \n",
    "    \n",
    "    # Taking into account the specifics of data engineering (different separators, at the moment), \n",
    "    # an additional check of the data dimension has been introduced.\n",
    "    # In the future, when (if) the data is uniform, the check can be removed.    \n",
    "    if current_groups.shape[1] != groups_addition.shape[1]:\n",
    "        current_groups  = pd.read_csv(download_urls[0], sep=';')         \n",
    "    \n",
    "    # Combining groups data\n",
    "    groups = pd.concat([current_groups, groups_addition], ignore_index=True)\n",
    "    \n",
    "    # Combining users activity data\n",
    "    checks_activity = active_studs.merge(checks, on='student_id', how='left')\n",
    "    \n",
    "    # Appending the experiment data to activity\n",
    "    test_results = checks_activity.merge(groups, how='left', left_on='student_id', right_on='id').drop(columns=['student_id'])\n",
    "    \n",
    "    # Calculating metrics \n",
    "    metrics_by_group = (test_results\n",
    "                    .groupby('grp', as_index=False) \n",
    "                    .agg(active_users=('id','nunique'),\n",
    "                         total_checks=('rev', 'count'),\n",
    "                         avg_check=('rev', 'mean'))    \n",
    "                   )\n",
    "    # Calculating CR\n",
    "    metrics_by_group['cr'] = np.round(metrics_by_group.total_checks / metrics_by_group.active_users, 4)\n",
    "    \n",
    "    return groups, metrics_by_group"
   ]
  },
  {
   "cell_type": "code",
   "execution_count": 37,
   "metadata": {},
   "outputs": [],
   "source": [
    "groups, metrics = add_groups_data()"
   ]
  },
  {
   "cell_type": "code",
   "execution_count": 38,
   "metadata": {},
   "outputs": [
    {
     "data": {
      "text/html": [
       "<div>\n",
       "<style scoped>\n",
       "    .dataframe tbody tr th:only-of-type {\n",
       "        vertical-align: middle;\n",
       "    }\n",
       "\n",
       "    .dataframe tbody tr th {\n",
       "        vertical-align: top;\n",
       "    }\n",
       "\n",
       "    .dataframe thead th {\n",
       "        text-align: right;\n",
       "    }\n",
       "</style>\n",
       "<table border=\"1\" class=\"dataframe\">\n",
       "  <thead>\n",
       "    <tr style=\"text-align: right;\">\n",
       "      <th></th>\n",
       "      <th>grp</th>\n",
       "      <th>active_users</th>\n",
       "      <th>total_checks</th>\n",
       "      <th>avg_check</th>\n",
       "      <th>cr</th>\n",
       "    </tr>\n",
       "  </thead>\n",
       "  <tbody>\n",
       "    <tr>\n",
       "      <th>0</th>\n",
       "      <td>A</td>\n",
       "      <td>1538</td>\n",
       "      <td>78</td>\n",
       "      <td>933.589744</td>\n",
       "      <td>0.0507</td>\n",
       "    </tr>\n",
       "    <tr>\n",
       "      <th>1</th>\n",
       "      <td>B</td>\n",
       "      <td>6803</td>\n",
       "      <td>314</td>\n",
       "      <td>1257.878992</td>\n",
       "      <td>0.0462</td>\n",
       "    </tr>\n",
       "  </tbody>\n",
       "</table>\n",
       "</div>"
      ],
      "text/plain": [
       "  grp  active_users  total_checks    avg_check      cr\n",
       "0   A          1538            78   933.589744  0.0507\n",
       "1   B          6803           314  1257.878992  0.0462"
      ]
     },
     "execution_count": 38,
     "metadata": {},
     "output_type": "execute_result"
    }
   ],
   "source": [
    "metrics"
   ]
  },
  {
   "cell_type": "markdown",
   "metadata": {},
   "source": [
    "### 3.2 Visualiztion function  \n",
    "Function that will build graphs based on the received metrics."
   ]
  },
  {
   "cell_type": "code",
   "execution_count": 39,
   "metadata": {},
   "outputs": [],
   "source": [
    "def metrics_viz(metrics):\n",
    "    \n",
    "    # Metrics values in Control\n",
    "    avg_check_A = metrics.query('grp == \"A\"').avg_check.values[0]    \n",
    "    cr_A = metrics.query('grp == \"A\"').cr.values[0]\n",
    "    \n",
    "    fig, (ax1, ax2) = plt.subplots(nrows=1, ncols=2, figsize=(20,5), sharey=True)\n",
    "\n",
    "    sns.barplot(data=metrics, x='avg_check', y='grp', ax=ax1)\n",
    "    sns.barplot(data=metrics, x='cr', y='grp', ax=ax2)\n",
    "\n",
    "    ax1.set_xlabel('Average check')\n",
    "    ax1.set_ylabel('Group')       \n",
    "    ax1.axvline(x=avg_check_A, ymin=0, ymax=1, color='red', linestyle='--')\n",
    "\n",
    "    ax2.set_xlabel('Conversion rate')\n",
    "    ax2.set_ylabel('')\n",
    "    ax2.axvline(x=cr_A, ymin=0, ymax=1, color='red', linestyle='--')\n",
    "\n",
    "    plt.suptitle('Metrics by group(A/B)')\n",
    "\n",
    "    sns.despine()\n",
    "    plt.show()\n",
    "    \n",
    "    "
   ]
  },
  {
   "cell_type": "code",
   "execution_count": 40,
   "metadata": {},
   "outputs": [
    {
     "data": {
      "image/png": "[encoded data removed]",
      "text/plain": [
       "<Figure size 1440x360 with 2 Axes>"
      ]
     },
     "metadata": {},
     "output_type": "display_data"
    }
   ],
   "source": [
    "metrics_viz(metrics)"
   ]
  },
  {
   "cell_type": "code",
   "execution_count": null,
   "metadata": {},
   "outputs": [],
   "source": []
  },
  {
   "cell_type": "markdown",
   "metadata": {},
   "source": [
    " "
   ]
  }
 ],
 "metadata": {
  "kernelspec": {
   "display_name": "Python 3 (ipykernel)",
   "language": "python",
   "name": "python3"
  },
  "language_info": {
   "codemirror_mode": {
    "name": "ipython",
    "version": 3
   },
   "file_extension": ".py",
   "mimetype": "text/x-python",
   "name": "python",
   "nbconvert_exporter": "python",
   "pygments_lexer": "ipython3",
   "version": "3.9.12"
  }
 },
 "nbformat": 4,
 "nbformat_minor": 4
}
